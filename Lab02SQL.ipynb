{
    "metadata": {
        "kernelspec": {
            "name": "SQL",
            "display_name": "SQL",
            "language": "sql"
        },
        "language_info": {
            "name": "sql",
            "version": ""
        }
    },
    "nbformat_minor": 2,
    "nbformat": 4,
    "cells": [
        {
            "cell_type": "markdown",
            "source": [
                "<h1><center><b>Laboratorio N° 02 - Utilizando Operadores de Conjuntos de Datos</b></center></h1>"
            ],
            "metadata": {
                "azdata_cell_guid": "12f79de3-415b-4635-8f86-bd1a1dcacfbb"
            }
        },
        {
            "cell_type": "markdown",
            "source": [
                "<h2><b>Objetivo:</b></h2>\r\n",
                "* Aplicar los conocimientos asimilados sobre operadores de conjuntos en SQL Server"
            ],
            "metadata": {
                "azdata_cell_guid": "8ebb83ca-bda1-4aee-92fa-f20177f07482"
            }
        },
        {
            "cell_type": "markdown",
            "source": [
                "<h2><b>Ejercicio 1: Operador UNION</b></h2>"
            ],
            "metadata": {
                "azdata_cell_guid": "c2f89b14-4805-4760-b228-3e58355f7f62"
            }
        },
        {
            "cell_type": "markdown",
            "source": [
                "1.1. Conectar con la BD TSQL"
            ],
            "metadata": {
                "azdata_cell_guid": "b3d3e08d-6c53-44aa-a02c-e3ee5be45d69"
            }
        },
        {
            "cell_type": "code",
            "source": [
                "USE TSQL;\r\n",
                "GO"
            ],
            "metadata": {
                "azdata_cell_guid": "0b8bc61b-ea52-4e25-b09d-d3513da1faff",
                "language": "sql"
            },
            "outputs": [
                {
                    "output_type": "display_data",
                    "data": {
                        "text/html": "Commands completed successfully."
                    },
                    "metadata": {}
                },
                {
                    "output_type": "display_data",
                    "data": {
                        "text/html": "Total execution time: 00:00:00"
                    },
                    "metadata": {}
                }
            ],
            "execution_count": 2
        },
        {
            "cell_type": "markdown",
            "source": [
                "1.2. Escribir una sentencia SELECT que retorne las columnas productid y productname desde la tabla Production.Products. Filtrar los resultados  para incluir solo los productos que tienen la columna categoryid valor 4."
            ],
            "metadata": {
                "azdata_cell_guid": "7331bd1f-8892-40cb-b4b3-05f1f4ee927f"
            }
        },
        {
            "cell_type": "code",
            "source": [
                "select productid, productname from Production.Products where categoryid = 4"
            ],
            "metadata": {
                "azdata_cell_guid": "6c2126b0-e54c-4da0-8fb3-0f7eb1299ec5",
                "language": "sql"
            },
            "outputs": [
                {
                    "output_type": "display_data",
                    "data": {
                        "text/html": "(10 rows affected)"
                    },
                    "metadata": {}
                },
                {
                    "output_type": "display_data",
                    "data": {
                        "text/html": "Total execution time: 00:00:00.009"
                    },
                    "metadata": {}
                },
                {
                    "output_type": "execute_result",
                    "metadata": {},
                    "execution_count": 6,
                    "data": {
                        "application/vnd.dataresource+json": {
                            "schema": {
                                "fields": [
                                    {
                                        "name": "productid"
                                    },
                                    {
                                        "name": "productname"
                                    },
                                    {
                                        "name": "categoryid"
                                    }
                                ]
                            },
                            "data": [
                                {
                                    "0": "11",
                                    "1": "Product QMVUN",
                                    "2": "4"
                                },
                                {
                                    "0": "12",
                                    "1": "Product OSFNS",
                                    "2": "4"
                                },
                                {
                                    "0": "31",
                                    "1": "Product XWOXC",
                                    "2": "4"
                                },
                                {
                                    "0": "32",
                                    "1": "Product NUNAW",
                                    "2": "4"
                                },
                                {
                                    "0": "33",
                                    "1": "Product ASTMN",
                                    "2": "4"
                                },
                                {
                                    "0": "59",
                                    "1": "Product UKXRI",
                                    "2": "4"
                                },
                                {
                                    "0": "60",
                                    "1": "Product WHBYK",
                                    "2": "4"
                                },
                                {
                                    "0": "69",
                                    "1": "Product COAXA",
                                    "2": "4"
                                },
                                {
                                    "0": "71",
                                    "1": "Product MYMOI",
                                    "2": "4"
                                },
                                {
                                    "0": "72",
                                    "1": "Product GEEOO",
                                    "2": "4"
                                }
                            ]
                        },
                        "text/html": [
                            "<table>",
                            "<tr><th>productid</th><th>productname</th><th>categoryid</th></tr>",
                            "<tr><td>11</td><td>Product QMVUN</td><td>4</td></tr>",
                            "<tr><td>12</td><td>Product OSFNS</td><td>4</td></tr>",
                            "<tr><td>31</td><td>Product XWOXC</td><td>4</td></tr>",
                            "<tr><td>32</td><td>Product NUNAW</td><td>4</td></tr>",
                            "<tr><td>33</td><td>Product ASTMN</td><td>4</td></tr>",
                            "<tr><td>59</td><td>Product UKXRI</td><td>4</td></tr>",
                            "<tr><td>60</td><td>Product WHBYK</td><td>4</td></tr>",
                            "<tr><td>69</td><td>Product COAXA</td><td>4</td></tr>",
                            "<tr><td>71</td><td>Product MYMOI</td><td>4</td></tr>",
                            "<tr><td>72</td><td>Product GEEOO</td><td>4</td></tr>",
                            "</table>"
                        ]
                    }
                }
            ],
            "execution_count": 6
        },
        {
            "cell_type": "markdown",
            "source": [
                "1.3. Escribir la sentencia SELECT para retornar las columnas productid y productname desde la tabla Production.Products. Filtrar los resultados para incluir solo los productos que tienen un monoto total de ventas mayor a $50,000. Para el monto total de ventas, se necesitara la consultar la tabla Sales.OrderDetails y agregar todos los valores (qty * unitprice) de detalle o linea de orden por cada producto."
            ],
            "metadata": {
                "azdata_cell_guid": "56bc9fe5-72df-4efc-896e-d47d12e95889"
            }
        },
        {
            "cell_type": "code",
            "source": [
                "SELECT p.productid, p.productname\r\n",
                "FROM Production.Products p\r\n",
                "JOIN (\r\n",
                "    SELECT productid, SUM(qty  * unitprice) AS total_sales\r\n",
                "    FROM Sales.OrderDetails\r\n",
                "    GROUP BY productid\r\n",
                "    HAVING SUM(qty  * unitprice) > 50000\r\n",
                ") AS sales_summary ON p.productid = sales_summary.productid;\r\n",
                ""
            ],
            "metadata": {
                "azdata_cell_guid": "b0374156-c157-41ff-9658-c877ec15040a",
                "language": "sql"
            },
            "outputs": [
                {
                    "output_type": "display_data",
                    "data": {
                        "text/html": "(4 rows affected)"
                    },
                    "metadata": {}
                },
                {
                    "output_type": "display_data",
                    "data": {
                        "text/html": "Total execution time: 00:00:00.015"
                    },
                    "metadata": {}
                },
                {
                    "output_type": "execute_result",
                    "metadata": {},
                    "execution_count": 8,
                    "data": {
                        "application/vnd.dataresource+json": {
                            "schema": {
                                "fields": [
                                    {
                                        "name": "productid"
                                    },
                                    {
                                        "name": "productname"
                                    }
                                ]
                            },
                            "data": [
                                {
                                    "0": "29",
                                    "1": "Product VJXYN"
                                },
                                {
                                    "0": "38",
                                    "1": "Product QDOMO"
                                },
                                {
                                    "0": "59",
                                    "1": "Product UKXRI"
                                },
                                {
                                    "0": "60",
                                    "1": "Product WHBYK"
                                }
                            ]
                        },
                        "text/html": [
                            "<table>",
                            "<tr><th>productid</th><th>productname</th></tr>",
                            "<tr><td>29</td><td>Product VJXYN</td></tr>",
                            "<tr><td>38</td><td>Product QDOMO</td></tr>",
                            "<tr><td>59</td><td>Product UKXRI</td></tr>",
                            "<tr><td>60</td><td>Product WHBYK</td></tr>",
                            "</table>"
                        ]
                    }
                }
            ],
            "execution_count": 8
        },
        {
            "cell_type": "markdown",
            "source": [
                "1.4. Escribir una consulta SELECT para traer las columnas custid y contactname de la tabla Sales.Customers. Monstrar el top 10 de clientes por monto de ventas para el periodo January 2008 y mostrar el top 10 de clientes por monto de ventas para el periodo February 2008. (Ojo: escribir dos sentencias SELECT, enlazar Sales.Customers y Sales.OrderValues, y utilizar el apropiado operador de conjunto)."
            ],
            "metadata": {
                "azdata_cell_guid": "40645fe5-79cc-457d-9a2e-c3608f1fe0df"
            }
        },
        {
            "cell_type": "code",
            "source": [
                "-- Enero 2008\r\n",
                "SELECT custid, contactname, 'January 2008' AS period\r\n",
                "FROM (\r\n",
                "    SELECT TOP 10 c.custid, c.contactname\r\n",
                "    FROM Sales.Customers c\r\n",
                "    JOIN Sales.OrderValues o ON c.custid = o.custid\r\n",
                "    WHERE o.orderdate >= '2008-01-01' AND o.orderdate < '2008-02-01'\r\n",
                "    GROUP BY c.custid, c.contactname\r\n",
                "    ORDER BY SUM(o.qty * o.val) DESC\r\n",
                ") AS top_january\r\n",
                "\r\n",
                "UNION\r\n",
                "\r\n",
                "-- Febrero 2008\r\n",
                "SELECT custid, contactname, 'February 2008' AS period\r\n",
                "FROM (\r\n",
                "    SELECT TOP 10 c.custid, c.contactname\r\n",
                "    FROM Sales.Customers c\r\n",
                "    JOIN Sales.OrderValues o ON c.custid = o.custid\r\n",
                "    WHERE o.orderdate >= '2008-02-01' AND o.orderdate < '2008-03-01'\r\n",
                "    GROUP BY c.custid, c.contactname\r\n",
                "    ORDER BY SUM(o.qty * o.val) DESC\r\n",
                ") AS top_february;\r\n",
                ""
            ],
            "metadata": {
                "azdata_cell_guid": "25fb2019-e2ba-4891-a524-b26f47f0c7fd",
                "language": "sql"
            },
            "outputs": [
                {
                    "output_type": "display_data",
                    "data": {
                        "text/html": "(5 rows affected)"
                    },
                    "metadata": {}
                },
                {
                    "output_type": "display_data",
                    "data": {
                        "text/html": "Total execution time: 00:00:00.016"
                    },
                    "metadata": {}
                },
                {
                    "output_type": "execute_result",
                    "metadata": {},
                    "execution_count": 19,
                    "data": {
                        "application/vnd.dataresource+json": {
                            "schema": {
                                "fields": [
                                    {
                                        "name": "custid"
                                    },
                                    {
                                        "name": "contactname"
                                    },
                                    {
                                        "name": "period"
                                    }
                                ]
                            },
                            "data": [
                                {
                                    "0": "42",
                                    "1": "Steiner, Dominik",
                                    "2": "January 2008"
                                },
                                {
                                    "0": "47",
                                    "1": "Lupu, Cornel",
                                    "2": "February 2008"
                                },
                                {
                                    "0": "55",
                                    "1": "Egelund-Muller, Anja",
                                    "2": "January 2008"
                                },
                                {
                                    "0": "66",
                                    "1": "Voss, Florian",
                                    "2": "February 2008"
                                },
                                {
                                    "0": "88",
                                    "1": "Li, Yan",
                                    "2": "January 2008"
                                }
                            ]
                        },
                        "text/html": [
                            "<table>",
                            "<tr><th>custid</th><th>contactname</th><th>period</th></tr>",
                            "<tr><td>42</td><td>Steiner, Dominik</td><td>January 2008</td></tr>",
                            "<tr><td>47</td><td>Lupu, Cornel</td><td>February 2008</td></tr>",
                            "<tr><td>55</td><td>Egelund-Muller, Anja</td><td>January 2008</td></tr>",
                            "<tr><td>66</td><td>Voss, Florian</td><td>February 2008</td></tr>",
                            "<tr><td>88</td><td>Li, Yan</td><td>January 2008</td></tr>",
                            "</table>"
                        ]
                    }
                }
            ],
            "execution_count": 19
        },
        {
            "cell_type": "markdown",
            "source": [
                "<h2><b>Ejercicio 2: Operador EXCEPT y INTERSECT</b></h2>"
            ],
            "metadata": {
                "azdata_cell_guid": "2769b212-c6db-4807-8468-4683379b4959"
            }
        },
        {
            "cell_type": "markdown",
            "source": [
                "2.1. Escribir una sentencia SELECT para traer la columna custid de la tabla Sales.Orders table. Filtrar los resultados para incluir solo los clientes quierenes compraron mas de 20 diferentes productos (basada en la columna productid de la tabla Sales.OrderDetails)."
            ],
            "metadata": {
                "azdata_cell_guid": "d5d98c1c-aca8-4ef1-9c8f-154988fbbb9a"
            }
        },
        {
            "cell_type": "code",
            "source": [
                "SELECT o.custid\r\n",
                "FROM Sales.Orders o\r\n",
                "JOIN Sales.OrderDetails od ON o.orderid = od.orderid\r\n",
                "GROUP BY o.custid\r\n",
                "HAVING COUNT(DISTINCT od.productid) > 20;"
            ],
            "metadata": {
                "azdata_cell_guid": "0f783164-79ea-492b-977c-623309f2dc9e",
                "language": "sql"
            },
            "outputs": [
                {
                    "output_type": "display_data",
                    "data": {
                        "text/html": "(33 rows affected)"
                    },
                    "metadata": {}
                },
                {
                    "output_type": "display_data",
                    "data": {
                        "text/html": "Total execution time: 00:00:00.012"
                    },
                    "metadata": {}
                },
                {
                    "output_type": "execute_result",
                    "metadata": {},
                    "execution_count": 21,
                    "data": {
                        "application/vnd.dataresource+json": {
                            "schema": {
                                "fields": [
                                    {
                                        "name": "custid"
                                    }
                                ]
                            },
                            "data": [
                                {
                                    "0": "4"
                                },
                                {
                                    "0": "5"
                                },
                                {
                                    "0": "7"
                                },
                                {
                                    "0": "9"
                                },
                                {
                                    "0": "10"
                                },
                                {
                                    "0": "20"
                                },
                                {
                                    "0": "24"
                                },
                                {
                                    "0": "25"
                                },
                                {
                                    "0": "30"
                                },
                                {
                                    "0": "34"
                                },
                                {
                                    "0": "35"
                                },
                                {
                                    "0": "37"
                                },
                                {
                                    "0": "39"
                                },
                                {
                                    "0": "41"
                                },
                                {
                                    "0": "44"
                                },
                                {
                                    "0": "46"
                                },
                                {
                                    "0": "47"
                                },
                                {
                                    "0": "51"
                                },
                                {
                                    "0": "56"
                                },
                                {
                                    "0": "62"
                                },
                                {
                                    "0": "63"
                                },
                                {
                                    "0": "65"
                                },
                                {
                                    "0": "67"
                                },
                                {
                                    "0": "68"
                                },
                                {
                                    "0": "71"
                                },
                                {
                                    "0": "72"
                                },
                                {
                                    "0": "76"
                                },
                                {
                                    "0": "80"
                                },
                                {
                                    "0": "83"
                                },
                                {
                                    "0": "84"
                                },
                                {
                                    "0": "86"
                                },
                                {
                                    "0": "87"
                                },
                                {
                                    "0": "89"
                                }
                            ]
                        },
                        "text/html": [
                            "<table>",
                            "<tr><th>custid</th></tr>",
                            "<tr><td>4</td></tr>",
                            "<tr><td>5</td></tr>",
                            "<tr><td>7</td></tr>",
                            "<tr><td>9</td></tr>",
                            "<tr><td>10</td></tr>",
                            "<tr><td>20</td></tr>",
                            "<tr><td>24</td></tr>",
                            "<tr><td>25</td></tr>",
                            "<tr><td>30</td></tr>",
                            "<tr><td>34</td></tr>",
                            "<tr><td>35</td></tr>",
                            "<tr><td>37</td></tr>",
                            "<tr><td>39</td></tr>",
                            "<tr><td>41</td></tr>",
                            "<tr><td>44</td></tr>",
                            "<tr><td>46</td></tr>",
                            "<tr><td>47</td></tr>",
                            "<tr><td>51</td></tr>",
                            "<tr><td>56</td></tr>",
                            "<tr><td>62</td></tr>",
                            "<tr><td>63</td></tr>",
                            "<tr><td>65</td></tr>",
                            "<tr><td>67</td></tr>",
                            "<tr><td>68</td></tr>",
                            "<tr><td>71</td></tr>",
                            "<tr><td>72</td></tr>",
                            "<tr><td>76</td></tr>",
                            "<tr><td>80</td></tr>",
                            "<tr><td>83</td></tr>",
                            "<tr><td>84</td></tr>",
                            "<tr><td>86</td></tr>",
                            "<tr><td>87</td></tr>",
                            "<tr><td>89</td></tr>",
                            "</table>"
                        ]
                    }
                }
            ],
            "execution_count": 21
        },
        {
            "cell_type": "markdown",
            "source": [
                "2.2. Escrbir una sentencia SELECT para traer la columna custid desd la tabla the Sales.Orders. Filtrar los resultados para incluir solo los clientes del pais USA y excluir todos los clientes del resultado previo (tarea 1). (Ojo: usar el operador EXCEPT la consulta anterior)."
            ],
            "metadata": {
                "azdata_cell_guid": "cb222708-ae6c-483a-990d-b29eae00aead"
            }
        },
        {
            "cell_type": "code",
            "source": [
                "-- Clientes de USA\r\n",
                "SELECT DISTINCT o.custid\r\n",
                "FROM Sales.Orders o\r\n",
                "JOIN Sales.Customers c ON o.custid = c.custid\r\n",
                "WHERE c.country = 'USA'\r\n",
                "\r\n",
                "EXCEPT\r\n",
                "\r\n",
                "-- Clientes que compraron más de 20 productos distintos\r\n",
                "SELECT o.custid\r\n",
                "FROM Sales.Orders o\r\n",
                "JOIN Sales.OrderDetails od ON o.orderid = od.orderid\r\n",
                "GROUP BY o.custid\r\n",
                "HAVING COUNT(DISTINCT od.productid) > 20;\r\n",
                ""
            ],
            "metadata": {
                "azdata_cell_guid": "d742b968-d4ea-4886-890e-bf4b29ec0f42",
                "language": "sql"
            },
            "outputs": [
                {
                    "output_type": "display_data",
                    "data": {
                        "text/html": "(10 rows affected)"
                    },
                    "metadata": {}
                },
                {
                    "output_type": "display_data",
                    "data": {
                        "text/html": "Total execution time: 00:00:00.009"
                    },
                    "metadata": {}
                },
                {
                    "output_type": "execute_result",
                    "metadata": {},
                    "execution_count": 26,
                    "data": {
                        "application/vnd.dataresource+json": {
                            "schema": {
                                "fields": [
                                    {
                                        "name": "custid"
                                    }
                                ]
                            },
                            "data": [
                                {
                                    "0": "32"
                                },
                                {
                                    "0": "36"
                                },
                                {
                                    "0": "43"
                                },
                                {
                                    "0": "45"
                                },
                                {
                                    "0": "48"
                                },
                                {
                                    "0": "55"
                                },
                                {
                                    "0": "75"
                                },
                                {
                                    "0": "77"
                                },
                                {
                                    "0": "78"
                                },
                                {
                                    "0": "82"
                                }
                            ]
                        },
                        "text/html": [
                            "<table>",
                            "<tr><th>custid</th></tr>",
                            "<tr><td>32</td></tr>",
                            "<tr><td>36</td></tr>",
                            "<tr><td>43</td></tr>",
                            "<tr><td>45</td></tr>",
                            "<tr><td>48</td></tr>",
                            "<tr><td>55</td></tr>",
                            "<tr><td>75</td></tr>",
                            "<tr><td>77</td></tr>",
                            "<tr><td>78</td></tr>",
                            "<tr><td>82</td></tr>",
                            "</table>"
                        ]
                    }
                }
            ],
            "execution_count": 26
        },
        {
            "cell_type": "markdown",
            "source": [
                "2.3. Escribir una sentencia SELECT para traer la columna custid de la tabla Sales.Orders. Filtrar solo los clientes quienes tienen un valor de total de ventas mayor a $10,000. Calcular el valor de ventas utilizando las columnas qty y unitprice de la tabla Sales.OrderDetails."
            ],
            "metadata": {
                "azdata_cell_guid": "d0889a7b-99a1-4bad-a744-46b5f8b45c7a"
            }
        },
        {
            "cell_type": "code",
            "source": [
                "SELECT o.custid\r\n",
                "FROM Sales.Orders o\r\n",
                "JOIN Sales.OrderDetails od ON o.orderid = od.orderid\r\n",
                "GROUP BY o.custid\r\n",
                "HAVING SUM(od.qty * od.unitprice) > 10000;\r\n",
                ""
            ],
            "metadata": {
                "azdata_cell_guid": "4cf4e795-03bd-434a-99ce-ce267302ee29",
                "language": "sql"
            },
            "outputs": [
                {
                    "output_type": "display_data",
                    "data": {
                        "text/html": "(41 rows affected)"
                    },
                    "metadata": {}
                },
                {
                    "output_type": "display_data",
                    "data": {
                        "text/html": "Total execution time: 00:00:00.011"
                    },
                    "metadata": {}
                },
                {
                    "output_type": "execute_result",
                    "metadata": {},
                    "execution_count": 27,
                    "data": {
                        "application/vnd.dataresource+json": {
                            "schema": {
                                "fields": [
                                    {
                                        "name": "custid"
                                    }
                                ]
                            },
                            "data": [
                                {
                                    "0": "23"
                                },
                                {
                                    "0": "46"
                                },
                                {
                                    "0": "75"
                                },
                                {
                                    "0": "9"
                                },
                                {
                                    "0": "89"
                                },
                                {
                                    "0": "72"
                                },
                                {
                                    "0": "32"
                                },
                                {
                                    "0": "35"
                                },
                                {
                                    "0": "86"
                                },
                                {
                                    "0": "63"
                                },
                                {
                                    "0": "55"
                                },
                                {
                                    "0": "67"
                                },
                                {
                                    "0": "87"
                                },
                                {
                                    "0": "7"
                                },
                                {
                                    "0": "44"
                                },
                                {
                                    "0": "50"
                                },
                                {
                                    "0": "24"
                                },
                                {
                                    "0": "47"
                                },
                                {
                                    "0": "30"
                                },
                                {
                                    "0": "10"
                                },
                                {
                                    "0": "41"
                                },
                                {
                                    "0": "4"
                                },
                                {
                                    "0": "65"
                                },
                                {
                                    "0": "19"
                                },
                                {
                                    "0": "73"
                                },
                                {
                                    "0": "25"
                                },
                                {
                                    "0": "62"
                                },
                                {
                                    "0": "5"
                                },
                                {
                                    "0": "56"
                                },
                                {
                                    "0": "76"
                                },
                                {
                                    "0": "59"
                                },
                                {
                                    "0": "39"
                                },
                                {
                                    "0": "71"
                                },
                                {
                                    "0": "83"
                                },
                                {
                                    "0": "34"
                                },
                                {
                                    "0": "20"
                                },
                                {
                                    "0": "68"
                                },
                                {
                                    "0": "80"
                                },
                                {
                                    "0": "14"
                                },
                                {
                                    "0": "37"
                                },
                                {
                                    "0": "51"
                                }
                            ]
                        },
                        "text/html": [
                            "<table>",
                            "<tr><th>custid</th></tr>",
                            "<tr><td>23</td></tr>",
                            "<tr><td>46</td></tr>",
                            "<tr><td>75</td></tr>",
                            "<tr><td>9</td></tr>",
                            "<tr><td>89</td></tr>",
                            "<tr><td>72</td></tr>",
                            "<tr><td>32</td></tr>",
                            "<tr><td>35</td></tr>",
                            "<tr><td>86</td></tr>",
                            "<tr><td>63</td></tr>",
                            "<tr><td>55</td></tr>",
                            "<tr><td>67</td></tr>",
                            "<tr><td>87</td></tr>",
                            "<tr><td>7</td></tr>",
                            "<tr><td>44</td></tr>",
                            "<tr><td>50</td></tr>",
                            "<tr><td>24</td></tr>",
                            "<tr><td>47</td></tr>",
                            "<tr><td>30</td></tr>",
                            "<tr><td>10</td></tr>",
                            "<tr><td>41</td></tr>",
                            "<tr><td>4</td></tr>",
                            "<tr><td>65</td></tr>",
                            "<tr><td>19</td></tr>",
                            "<tr><td>73</td></tr>",
                            "<tr><td>25</td></tr>",
                            "<tr><td>62</td></tr>",
                            "<tr><td>5</td></tr>",
                            "<tr><td>56</td></tr>",
                            "<tr><td>76</td></tr>",
                            "<tr><td>59</td></tr>",
                            "<tr><td>39</td></tr>",
                            "<tr><td>71</td></tr>",
                            "<tr><td>83</td></tr>",
                            "<tr><td>34</td></tr>",
                            "<tr><td>20</td></tr>",
                            "<tr><td>68</td></tr>",
                            "<tr><td>80</td></tr>",
                            "<tr><td>14</td></tr>",
                            "<tr><td>37</td></tr>",
                            "<tr><td>51</td></tr>",
                            "</table>"
                        ]
                    }
                }
            ],
            "execution_count": 27
        },
        {
            "cell_type": "markdown",
            "source": [
                "<h2><b>Ejercicio 3: Utilizando el Operador APPLY</b></h2>"
            ],
            "metadata": {
                "azdata_cell_guid": "5d806dca-11be-4dde-8df8-aae7176311ad"
            }
        },
        {
            "cell_type": "markdown",
            "source": [
                "3.1. Escribir una sentencia SELECT para traer las columnas productid y productname de la tabla Production.Products. En adición, para cada producto, traer las ultimas dos filas de la tabla Sales.OrderDetails basado en el número orderid."
            ],
            "metadata": {
                "azdata_cell_guid": "7f59edc1-b172-4b0c-8f64-ec37117f3d31"
            }
        },
        {
            "cell_type": "code",
            "source": [
                "WITH UltimosDetalles AS (\r\n",
                "    SELECT \r\n",
                "        od.productid,\r\n",
                "        od.orderid,\r\n",
                "        ROW_NUMBER() OVER (PARTITION BY od.productid ORDER BY od.orderid DESC) AS fila\r\n",
                "    FROM Sales.OrderDetails od\r\n",
                ")\r\n",
                "SELECT \r\n",
                "    p.productid,\r\n",
                "    p.productname,\r\n",
                "    ud.orderid\r\n",
                "FROM Production.Products p\r\n",
                "JOIN UltimosDetalles ud ON p.productid = ud.productid\r\n",
                "WHERE ud.fila <= 2\r\n",
                "ORDER BY p.productid, ud.orderid DESC;\r\n",
                ""
            ],
            "metadata": {
                "azdata_cell_guid": "83b0fe9a-30a3-4a69-99e0-74801f3c983f",
                "language": "sql"
            },
            "outputs": [
                {
                    "output_type": "display_data",
                    "data": {
                        "text/html": "(154 rows affected)"
                    },
                    "metadata": {}
                },
                {
                    "output_type": "display_data",
                    "data": {
                        "text/html": "Total execution time: 00:00:00.011"
                    },
                    "metadata": {}
                },
                {
                    "output_type": "execute_result",
                    "metadata": {},
                    "execution_count": 28,
                    "data": {
                        "application/vnd.dataresource+json": {
                            "schema": {
                                "fields": [
                                    {
                                        "name": "productid"
                                    },
                                    {
                                        "name": "productname"
                                    },
                                    {
                                        "name": "orderid"
                                    }
                                ]
                            },
                            "data": [
                                {
                                    "0": "1",
                                    "1": "Product HHYDP",
                                    "2": "11070"
                                },
                                {
                                    "0": "1",
                                    "1": "Product HHYDP",
                                    "2": "11047"
                                },
                                {
                                    "0": "2",
                                    "1": "Product RECZE",
                                    "2": "11077"
                                },
                                {
                                    "0": "2",
                                    "1": "Product RECZE",
                                    "2": "11075"
                                },
                                {
                                    "0": "3",
                                    "1": "Product IMEHJ",
                                    "2": "11077"
                                },
                                {
                                    "0": "3",
                                    "1": "Product IMEHJ",
                                    "2": "11017"
                                },
                                {
                                    "0": "4",
                                    "1": "Product KSBRM",
                                    "2": "11077"
                                },
                                {
                                    "0": "4",
                                    "1": "Product KSBRM",
                                    "2": "11000"
                                },
                                {
                                    "0": "5",
                                    "1": "Product EPEIM",
                                    "2": "11047"
                                },
                                {
                                    "0": "5",
                                    "1": "Product EPEIM",
                                    "2": "11030"
                                },
                                {
                                    "0": "6",
                                    "1": "Product VAIIV",
                                    "2": "11077"
                                },
                                {
                                    "0": "6",
                                    "1": "Product VAIIV",
                                    "2": "11076"
                                },
                                {
                                    "0": "7",
                                    "1": "Product HMLNI",
                                    "2": "11077"
                                },
                                {
                                    "0": "7",
                                    "1": "Product HMLNI",
                                    "2": "11071"
                                },
                                {
                                    "0": "8",
                                    "1": "Product WVJFP",
                                    "2": "11077"
                                },
                                {
                                    "0": "8",
                                    "1": "Product WVJFP",
                                    "2": "11007"
                                },
                                {
                                    "0": "9",
                                    "1": "Product AOZBW",
                                    "2": "10848"
                                },
                                {
                                    "0": "9",
                                    "1": "Product AOZBW",
                                    "2": "10693"
                                },
                                {
                                    "0": "10",
                                    "1": "Product YHXGE",
                                    "2": "11077"
                                },
                                {
                                    "0": "10",
                                    "1": "Product YHXGE",
                                    "2": "11020"
                                },
                                {
                                    "0": "11",
                                    "1": "Product QMVUN",
                                    "2": "11073"
                                },
                                {
                                    "0": "11",
                                    "1": "Product QMVUN",
                                    "2": "11043"
                                },
                                {
                                    "0": "12",
                                    "1": "Product OSFNS",
                                    "2": "11077"
                                },
                                {
                                    "0": "12",
                                    "1": "Product OSFNS",
                                    "2": "11049"
                                },
                                {
                                    "0": "13",
                                    "1": "Product POXFU",
                                    "2": "11077"
                                },
                                {
                                    "0": "13",
                                    "1": "Product POXFU",
                                    "2": "11071"
                                },
                                {
                                    "0": "14",
                                    "1": "Product PWCJB",
                                    "2": "11077"
                                },
                                {
                                    "0": "14",
                                    "1": "Product PWCJB",
                                    "2": "11076"
                                },
                                {
                                    "0": "15",
                                    "1": "Product KSZOI",
                                    "2": "10657"
                                },
                                {
                                    "0": "15",
                                    "1": "Product KSZOI",
                                    "2": "10592"
                                },
                                {
                                    "0": "16",
                                    "1": "Product PAFRH",
                                    "2": "11077"
                                },
                                {
                                    "0": "16",
                                    "1": "Product PAFRH",
                                    "2": "11074"
                                },
                                {
                                    "0": "17",
                                    "1": "Product BLCAX",
                                    "2": "11064"
                                },
                                {
                                    "0": "17",
                                    "1": "Product BLCAX",
                                    "2": "11059"
                                },
                                {
                                    "0": "18",
                                    "1": "Product CKEDC",
                                    "2": "11053"
                                },
                                {
                                    "0": "18",
                                    "1": "Product CKEDC",
                                    "2": "11026"
                                },
                                {
                                    "0": "19",
                                    "1": "Product XKXDO",
                                    "2": "11076"
                                },
                                {
                                    "0": "19",
                                    "1": "Product XKXDO",
                                    "2": "11066"
                                },
                                {
                                    "0": "20",
                                    "1": "Product QHFFP",
                                    "2": "11077"
                                },
                                {
                                    "0": "20",
                                    "1": "Product QHFFP",
                                    "2": "11021"
                                },
                                {
                                    "0": "21",
                                    "1": "Product VJZZH",
                                    "2": "11058"
                                },
                                {
                                    "0": "21",
                                    "1": "Product VJZZH",
                                    "2": "11040"
                                },
                                {
                                    "0": "22",
                                    "1": "Product CPHFY",
                                    "2": "11001"
                                },
                                {
                                    "0": "22",
                                    "1": "Product CPHFY",
                                    "2": "10943"
                                },
                                {
                                    "0": "23",
                                    "1": "Product JLUDZ",
                                    "2": "11077"
                                },
                                {
                                    "0": "23",
                                    "1": "Product JLUDZ",
                                    "2": "11013"
                                },
                                {
                                    "0": "24",
                                    "1": "Product QOGNU",
                                    "2": "11073"
                                },
                                {
                                    "0": "24",
                                    "1": "Product QOGNU",
                                    "2": "11055"
                                },
                                {
                                    "0": "25",
                                    "1": "Product LYLNI",
                                    "2": "11055"
                                },
                                {
                                    "0": "25",
                                    "1": "Product LYLNI",
                                    "2": "10919"
                                },
                                {
                                    "0": "26",
                                    "1": "Product HLGZA",
                                    "2": "11024"
                                },
                                {
                                    "0": "26",
                                    "1": "Product HLGZA",
                                    "2": "11021"
                                },
                                {
                                    "0": "27",
                                    "1": "Product SMIOH",
                                    "2": "10979"
                                },
                                {
                                    "0": "27",
                                    "1": "Product SMIOH",
                                    "2": "10930"
                                },
                                {
                                    "0": "28",
                                    "1": "Product OFBNT",
                                    "2": "11068"
                                },
                                {
                                    "0": "28",
                                    "1": "Product OFBNT",
                                    "2": "11039"
                                },
                                {
                                    "0": "29",
                                    "1": "Product VJXYN",
                                    "2": "11030"
                                },
                                {
                                    "0": "29",
                                    "1": "Product VJXYN",
                                    "2": "11007"
                                },
                                {
                                    "0": "30",
                                    "1": "Product LYERX",
                                    "2": "11065"
                                },
                                {
                                    "0": "30",
                                    "1": "Product LYERX",
                                    "2": "11015"
                                },
                                {
                                    "0": "31",
                                    "1": "Product XWOXC",
                                    "2": "11070"
                                },
                                {
                                    "0": "31",
                                    "1": "Product XWOXC",
                                    "2": "11016"
                                },
                                {
                                    "0": "32",
                                    "1": "Product NUNAW",
                                    "2": "11077"
                                },
                                {
                                    "0": "32",
                                    "1": "Product NUNAW",
                                    "2": "11053"
                                },
                                {
                                    "0": "33",
                                    "1": "Product ASTMN",
                                    "2": "11054"
                                },
                                {
                                    "0": "33",
                                    "1": "Product ASTMN",
                                    "2": "11045"
                                },
                                {
                                    "0": "34",
                                    "1": "Product SWNJY",
                                    "2": "11066"
                                },
                                {
                                    "0": "34",
                                    "1": "Product SWNJY",
                                    "2": "11063"
                                },
                                {
                                    "0": "35",
                                    "1": "Product NEVTJ",
                                    "2": "11046"
                                },
                                {
                                    "0": "35",
                                    "1": "Product NEVTJ",
                                    "2": "11039"
                                },
                                {
                                    "0": "36",
                                    "1": "Product GMKIJ",
                                    "2": "11032"
                                },
                                {
                                    "0": "36",
                                    "1": "Product GMKIJ",
                                    "2": "11016"
                                },
                                {
                                    "0": "37",
                                    "1": "Product EVFFA",
                                    "2": "10966"
                                },
                                {
                                    "0": "37",
                                    "1": "Product EVFFA",
                                    "2": "10847"
                                },
                                {
                                    "0": "38",
                                    "1": "Product QDOMO",
                                    "2": "11032"
                                },
                                {
                                    "0": "38",
                                    "1": "Product QDOMO",
                                    "2": "10981"
                                },
                                {
                                    "0": "39",
                                    "1": "Product LSOFL",
                                    "2": "11077"
                                },
                                {
                                    "0": "39",
                                    "1": "Product LSOFL",
                                    "2": "11069"
                                },
                                {
                                    "0": "40",
                                    "1": "Product YZIXQ",
                                    "2": "11063"
                                },
                                {
                                    "0": "40",
                                    "1": "Product YZIXQ",
                                    "2": "11038"
                                },
                                {
                                    "0": "41",
                                    "1": "Product TTEEX",
                                    "2": "11077"
                                },
                                {
                                    "0": "41",
                                    "1": "Product TTEEX",
                                    "2": "11072"
                                },
                                {
                                    "0": "42",
                                    "1": "Product RJVNM",
                                    "2": "11035"
                                },
                                {
                                    "0": "42",
                                    "1": "Product RJVNM",
                                    "2": "11013"
                                },
                                {
                                    "0": "43",
                                    "1": "Product ZZZHR",
                                    "2": "11068"
                                },
                                {
                                    "0": "43",
                                    "1": "Product ZZZHR",
                                    "2": "11052"
                                },
                                {
                                    "0": "44",
                                    "1": "Product VJIEO",
                                    "2": "11042"
                                },
                                {
                                    "0": "44",
                                    "1": "Product VJIEO",
                                    "2": "11034"
                                },
                                {
                                    "0": "45",
                                    "1": "Product AQOKR",
                                    "2": "11013"
                                },
                                {
                                    "0": "45",
                                    "1": "Product AQOKR",
                                    "2": "10954"
                                },
                                {
                                    "0": "46",
                                    "1": "Product CBRRL",
                                    "2": "11077"
                                },
                                {
                                    "0": "46",
                                    "1": "Product CBRRL",
                                    "2": "11075"
                                },
                                {
                                    "0": "47",
                                    "1": "Product EZZPR",
                                    "2": "10977"
                                },
                                {
                                    "0": "47",
                                    "1": "Product EZZPR",
                                    "2": "10956"
                                },
                                {
                                    "0": "48",
                                    "1": "Product MYNXN",
                                    "2": "10814"
                                },
                                {
                                    "0": "48",
                                    "1": "Product MYNXN",
                                    "2": "10704"
                                },
                                {
                                    "0": "49",
                                    "1": "Product FPYPN",
                                    "2": "11039"
                                },
                                {
                                    "0": "49",
                                    "1": "Product FPYPN",
                                    "2": "11019"
                                },
                                {
                                    "0": "50",
                                    "1": "Product BIUDV",
                                    "2": "11072"
                                },
                                {
                                    "0": "50",
                                    "1": "Product BIUDV",
                                    "2": "10948"
                                },
                                {
                                    "0": "51",
                                    "1": "Product APITJ",
                                    "2": "11055"
                                },
                                {
                                    "0": "51",
                                    "1": "Product APITJ",
                                    "2": "11045"
                                },
                                {
                                    "0": "52",
                                    "1": "Product QSRXF",
                                    "2": "11077"
                                },
                                {
                                    "0": "52",
                                    "1": "Product QSRXF",
                                    "2": "11038"
                                },
                                {
                                    "0": "53",
                                    "1": "Product BKGEA",
                                    "2": "11064"
                                },
                                {
                                    "0": "53",
                                    "1": "Product BKGEA",
                                    "2": "11062"
                                },
                                {
                                    "0": "54",
                                    "1": "Product QAQRL",
                                    "2": "11065"
                                },
                                {
                                    "0": "54",
                                    "1": "Product QAQRL",
                                    "2": "11035"
                                },
                                {
                                    "0": "55",
                                    "1": "Product YYWRT",
                                    "2": "11077"
                                },
                                {
                                    "0": "55",
                                    "1": "Product YYWRT",
                                    "2": "11064"
                                },
                                {
                                    "0": "56",
                                    "1": "Product VKCMF",
                                    "2": "11029"
                                },
                                {
                                    "0": "56",
                                    "1": "Product VKCMF",
                                    "2": "11018"
                                },
                                {
                                    "0": "57",
                                    "1": "Product OVLQI",
                                    "2": "11055"
                                },
                                {
                                    "0": "57",
                                    "1": "Product OVLQI",
                                    "2": "11039"
                                },
                                {
                                    "0": "58",
                                    "1": "Product ACRVI",
                                    "2": "11011"
                                },
                                {
                                    "0": "58",
                                    "1": "Product ACRVI",
                                    "2": "10930"
                                },
                                {
                                    "0": "59",
                                    "1": "Product UKXRI",
                                    "2": "11036"
                                },
                                {
                                    "0": "59",
                                    "1": "Product UKXRI",
                                    "2": "11032"
                                },
                                {
                                    "0": "60",
                                    "1": "Product WHBYK",
                                    "2": "11077"
                                },
                                {
                                    "0": "60",
                                    "1": "Product WHBYK",
                                    "2": "11061"
                                },
                                {
                                    "0": "61",
                                    "1": "Product XYZPE",
                                    "2": "11058"
                                },
                                {
                                    "0": "61",
                                    "1": "Product XYZPE",
                                    "2": "11052"
                                },
                                {
                                    "0": "62",
                                    "1": "Product WUXYK",
                                    "2": "11044"
                                },
                                {
                                    "0": "62",
                                    "1": "Product WUXYK",
                                    "2": "11027"
                                },
                                {
                                    "0": "63",
                                    "1": "Product ICKNK",
                                    "2": "11041"
                                },
                                {
                                    "0": "63",
                                    "1": "Product ICKNK",
                                    "2": "11029"
                                },
                                {
                                    "0": "64",
                                    "1": "Product HCQDE",
                                    "2": "11077"
                                },
                                {
                                    "0": "64",
                                    "1": "Product HCQDE",
                                    "2": "11072"
                                },
                                {
                                    "0": "65",
                                    "1": "Product XYWBZ",
                                    "2": "11024"
                                },
                                {
                                    "0": "65",
                                    "1": "Product XYWBZ",
                                    "2": "10903"
                                },
                                {
                                    "0": "66",
                                    "1": "Product LQMGN",
                                    "2": "11077"
                                },
                                {
                                    "0": "66",
                                    "1": "Product LQMGN",
                                    "2": "10774"
                                },
                                {
                                    "0": "67",
                                    "1": "Product XLXQF",
                                    "2": "11054"
                                },
                                {
                                    "0": "67",
                                    "1": "Product XLXQF",
                                    "2": "10939"
                                },
                                {
                                    "0": "68",
                                    "1": "Product TBTBL",
                                    "2": "11064"
                                },
                                {
                                    "0": "68",
                                    "1": "Product TBTBL",
                                    "2": "11048"
                                },
                                {
                                    "0": "69",
                                    "1": "Product COAXA",
                                    "2": "11033"
                                },
                                {
                                    "0": "69",
                                    "1": "Product COAXA",
                                    "2": "11022"
                                },
                                {
                                    "0": "70",
                                    "1": "Product TOONT",
                                    "2": "11062"
                                },
                                {
                                    "0": "70",
                                    "1": "Product TOONT",
                                    "2": "11057"
                                },
                                {
                                    "0": "71",
                                    "1": "Product MYMOI",
                                    "2": "11038"
                                },
                                {
                                    "0": "71",
                                    "1": "Product MYMOI",
                                    "2": "11031"
                                },
                                {
                                    "0": "72",
                                    "1": "Product GEEOO",
                                    "2": "11021"
                                },
                                {
                                    "0": "72",
                                    "1": "Product GEEOO",
                                    "2": "10992"
                                },
                                {
                                    "0": "73",
                                    "1": "Product WEUJZ",
                                    "2": "11077"
                                },
                                {
                                    "0": "73",
                                    "1": "Product WEUJZ",
                                    "2": "10881"
                                },
                                {
                                    "0": "74",
                                    "1": "Product BKAZJ",
                                    "2": "10998"
                                },
                                {
                                    "0": "74",
                                    "1": "Product BKAZJ",
                                    "2": "10846"
                                },
                                {
                                    "0": "75",
                                    "1": "Product BWRLG",
                                    "2": "11077"
                                },
                                {
                                    "0": "75",
                                    "1": "Product BWRLG",
                                    "2": "10998"
                                },
                                {
                                    "0": "76",
                                    "1": "Product JYGFE",
                                    "2": "11075"
                                },
                                {
                                    "0": "76",
                                    "1": "Product JYGFE",
                                    "2": "11050"
                                },
                                {
                                    "0": "77",
                                    "1": "Product LUNZZ",
                                    "2": "11077"
                                },
                                {
                                    "0": "77",
                                    "1": "Product LUNZZ",
                                    "2": "11068"
                                }
                            ]
                        },
                        "text/html": [
                            "<table>",
                            "<tr><th>productid</th><th>productname</th><th>orderid</th></tr>",
                            "<tr><td>1</td><td>Product HHYDP</td><td>11070</td></tr>",
                            "<tr><td>1</td><td>Product HHYDP</td><td>11047</td></tr>",
                            "<tr><td>2</td><td>Product RECZE</td><td>11077</td></tr>",
                            "<tr><td>2</td><td>Product RECZE</td><td>11075</td></tr>",
                            "<tr><td>3</td><td>Product IMEHJ</td><td>11077</td></tr>",
                            "<tr><td>3</td><td>Product IMEHJ</td><td>11017</td></tr>",
                            "<tr><td>4</td><td>Product KSBRM</td><td>11077</td></tr>",
                            "<tr><td>4</td><td>Product KSBRM</td><td>11000</td></tr>",
                            "<tr><td>5</td><td>Product EPEIM</td><td>11047</td></tr>",
                            "<tr><td>5</td><td>Product EPEIM</td><td>11030</td></tr>",
                            "<tr><td>6</td><td>Product VAIIV</td><td>11077</td></tr>",
                            "<tr><td>6</td><td>Product VAIIV</td><td>11076</td></tr>",
                            "<tr><td>7</td><td>Product HMLNI</td><td>11077</td></tr>",
                            "<tr><td>7</td><td>Product HMLNI</td><td>11071</td></tr>",
                            "<tr><td>8</td><td>Product WVJFP</td><td>11077</td></tr>",
                            "<tr><td>8</td><td>Product WVJFP</td><td>11007</td></tr>",
                            "<tr><td>9</td><td>Product AOZBW</td><td>10848</td></tr>",
                            "<tr><td>9</td><td>Product AOZBW</td><td>10693</td></tr>",
                            "<tr><td>10</td><td>Product YHXGE</td><td>11077</td></tr>",
                            "<tr><td>10</td><td>Product YHXGE</td><td>11020</td></tr>",
                            "<tr><td>11</td><td>Product QMVUN</td><td>11073</td></tr>",
                            "<tr><td>11</td><td>Product QMVUN</td><td>11043</td></tr>",
                            "<tr><td>12</td><td>Product OSFNS</td><td>11077</td></tr>",
                            "<tr><td>12</td><td>Product OSFNS</td><td>11049</td></tr>",
                            "<tr><td>13</td><td>Product POXFU</td><td>11077</td></tr>",
                            "<tr><td>13</td><td>Product POXFU</td><td>11071</td></tr>",
                            "<tr><td>14</td><td>Product PWCJB</td><td>11077</td></tr>",
                            "<tr><td>14</td><td>Product PWCJB</td><td>11076</td></tr>",
                            "<tr><td>15</td><td>Product KSZOI</td><td>10657</td></tr>",
                            "<tr><td>15</td><td>Product KSZOI</td><td>10592</td></tr>",
                            "<tr><td>16</td><td>Product PAFRH</td><td>11077</td></tr>",
                            "<tr><td>16</td><td>Product PAFRH</td><td>11074</td></tr>",
                            "<tr><td>17</td><td>Product BLCAX</td><td>11064</td></tr>",
                            "<tr><td>17</td><td>Product BLCAX</td><td>11059</td></tr>",
                            "<tr><td>18</td><td>Product CKEDC</td><td>11053</td></tr>",
                            "<tr><td>18</td><td>Product CKEDC</td><td>11026</td></tr>",
                            "<tr><td>19</td><td>Product XKXDO</td><td>11076</td></tr>",
                            "<tr><td>19</td><td>Product XKXDO</td><td>11066</td></tr>",
                            "<tr><td>20</td><td>Product QHFFP</td><td>11077</td></tr>",
                            "<tr><td>20</td><td>Product QHFFP</td><td>11021</td></tr>",
                            "<tr><td>21</td><td>Product VJZZH</td><td>11058</td></tr>",
                            "<tr><td>21</td><td>Product VJZZH</td><td>11040</td></tr>",
                            "<tr><td>22</td><td>Product CPHFY</td><td>11001</td></tr>",
                            "<tr><td>22</td><td>Product CPHFY</td><td>10943</td></tr>",
                            "<tr><td>23</td><td>Product JLUDZ</td><td>11077</td></tr>",
                            "<tr><td>23</td><td>Product JLUDZ</td><td>11013</td></tr>",
                            "<tr><td>24</td><td>Product QOGNU</td><td>11073</td></tr>",
                            "<tr><td>24</td><td>Product QOGNU</td><td>11055</td></tr>",
                            "<tr><td>25</td><td>Product LYLNI</td><td>11055</td></tr>",
                            "<tr><td>25</td><td>Product LYLNI</td><td>10919</td></tr>",
                            "<tr><td>26</td><td>Product HLGZA</td><td>11024</td></tr>",
                            "<tr><td>26</td><td>Product HLGZA</td><td>11021</td></tr>",
                            "<tr><td>27</td><td>Product SMIOH</td><td>10979</td></tr>",
                            "<tr><td>27</td><td>Product SMIOH</td><td>10930</td></tr>",
                            "<tr><td>28</td><td>Product OFBNT</td><td>11068</td></tr>",
                            "<tr><td>28</td><td>Product OFBNT</td><td>11039</td></tr>",
                            "<tr><td>29</td><td>Product VJXYN</td><td>11030</td></tr>",
                            "<tr><td>29</td><td>Product VJXYN</td><td>11007</td></tr>",
                            "<tr><td>30</td><td>Product LYERX</td><td>11065</td></tr>",
                            "<tr><td>30</td><td>Product LYERX</td><td>11015</td></tr>",
                            "<tr><td>31</td><td>Product XWOXC</td><td>11070</td></tr>",
                            "<tr><td>31</td><td>Product XWOXC</td><td>11016</td></tr>",
                            "<tr><td>32</td><td>Product NUNAW</td><td>11077</td></tr>",
                            "<tr><td>32</td><td>Product NUNAW</td><td>11053</td></tr>",
                            "<tr><td>33</td><td>Product ASTMN</td><td>11054</td></tr>",
                            "<tr><td>33</td><td>Product ASTMN</td><td>11045</td></tr>",
                            "<tr><td>34</td><td>Product SWNJY</td><td>11066</td></tr>",
                            "<tr><td>34</td><td>Product SWNJY</td><td>11063</td></tr>",
                            "<tr><td>35</td><td>Product NEVTJ</td><td>11046</td></tr>",
                            "<tr><td>35</td><td>Product NEVTJ</td><td>11039</td></tr>",
                            "<tr><td>36</td><td>Product GMKIJ</td><td>11032</td></tr>",
                            "<tr><td>36</td><td>Product GMKIJ</td><td>11016</td></tr>",
                            "<tr><td>37</td><td>Product EVFFA</td><td>10966</td></tr>",
                            "<tr><td>37</td><td>Product EVFFA</td><td>10847</td></tr>",
                            "<tr><td>38</td><td>Product QDOMO</td><td>11032</td></tr>",
                            "<tr><td>38</td><td>Product QDOMO</td><td>10981</td></tr>",
                            "<tr><td>39</td><td>Product LSOFL</td><td>11077</td></tr>",
                            "<tr><td>39</td><td>Product LSOFL</td><td>11069</td></tr>",
                            "<tr><td>40</td><td>Product YZIXQ</td><td>11063</td></tr>",
                            "<tr><td>40</td><td>Product YZIXQ</td><td>11038</td></tr>",
                            "<tr><td>41</td><td>Product TTEEX</td><td>11077</td></tr>",
                            "<tr><td>41</td><td>Product TTEEX</td><td>11072</td></tr>",
                            "<tr><td>42</td><td>Product RJVNM</td><td>11035</td></tr>",
                            "<tr><td>42</td><td>Product RJVNM</td><td>11013</td></tr>",
                            "<tr><td>43</td><td>Product ZZZHR</td><td>11068</td></tr>",
                            "<tr><td>43</td><td>Product ZZZHR</td><td>11052</td></tr>",
                            "<tr><td>44</td><td>Product VJIEO</td><td>11042</td></tr>",
                            "<tr><td>44</td><td>Product VJIEO</td><td>11034</td></tr>",
                            "<tr><td>45</td><td>Product AQOKR</td><td>11013</td></tr>",
                            "<tr><td>45</td><td>Product AQOKR</td><td>10954</td></tr>",
                            "<tr><td>46</td><td>Product CBRRL</td><td>11077</td></tr>",
                            "<tr><td>46</td><td>Product CBRRL</td><td>11075</td></tr>",
                            "<tr><td>47</td><td>Product EZZPR</td><td>10977</td></tr>",
                            "<tr><td>47</td><td>Product EZZPR</td><td>10956</td></tr>",
                            "<tr><td>48</td><td>Product MYNXN</td><td>10814</td></tr>",
                            "<tr><td>48</td><td>Product MYNXN</td><td>10704</td></tr>",
                            "<tr><td>49</td><td>Product FPYPN</td><td>11039</td></tr>",
                            "<tr><td>49</td><td>Product FPYPN</td><td>11019</td></tr>",
                            "<tr><td>50</td><td>Product BIUDV</td><td>11072</td></tr>",
                            "<tr><td>50</td><td>Product BIUDV</td><td>10948</td></tr>",
                            "<tr><td>51</td><td>Product APITJ</td><td>11055</td></tr>",
                            "<tr><td>51</td><td>Product APITJ</td><td>11045</td></tr>",
                            "<tr><td>52</td><td>Product QSRXF</td><td>11077</td></tr>",
                            "<tr><td>52</td><td>Product QSRXF</td><td>11038</td></tr>",
                            "<tr><td>53</td><td>Product BKGEA</td><td>11064</td></tr>",
                            "<tr><td>53</td><td>Product BKGEA</td><td>11062</td></tr>",
                            "<tr><td>54</td><td>Product QAQRL</td><td>11065</td></tr>",
                            "<tr><td>54</td><td>Product QAQRL</td><td>11035</td></tr>",
                            "<tr><td>55</td><td>Product YYWRT</td><td>11077</td></tr>",
                            "<tr><td>55</td><td>Product YYWRT</td><td>11064</td></tr>",
                            "<tr><td>56</td><td>Product VKCMF</td><td>11029</td></tr>",
                            "<tr><td>56</td><td>Product VKCMF</td><td>11018</td></tr>",
                            "<tr><td>57</td><td>Product OVLQI</td><td>11055</td></tr>",
                            "<tr><td>57</td><td>Product OVLQI</td><td>11039</td></tr>",
                            "<tr><td>58</td><td>Product ACRVI</td><td>11011</td></tr>",
                            "<tr><td>58</td><td>Product ACRVI</td><td>10930</td></tr>",
                            "<tr><td>59</td><td>Product UKXRI</td><td>11036</td></tr>",
                            "<tr><td>59</td><td>Product UKXRI</td><td>11032</td></tr>",
                            "<tr><td>60</td><td>Product WHBYK</td><td>11077</td></tr>",
                            "<tr><td>60</td><td>Product WHBYK</td><td>11061</td></tr>",
                            "<tr><td>61</td><td>Product XYZPE</td><td>11058</td></tr>",
                            "<tr><td>61</td><td>Product XYZPE</td><td>11052</td></tr>",
                            "<tr><td>62</td><td>Product WUXYK</td><td>11044</td></tr>",
                            "<tr><td>62</td><td>Product WUXYK</td><td>11027</td></tr>",
                            "<tr><td>63</td><td>Product ICKNK</td><td>11041</td></tr>",
                            "<tr><td>63</td><td>Product ICKNK</td><td>11029</td></tr>",
                            "<tr><td>64</td><td>Product HCQDE</td><td>11077</td></tr>",
                            "<tr><td>64</td><td>Product HCQDE</td><td>11072</td></tr>",
                            "<tr><td>65</td><td>Product XYWBZ</td><td>11024</td></tr>",
                            "<tr><td>65</td><td>Product XYWBZ</td><td>10903</td></tr>",
                            "<tr><td>66</td><td>Product LQMGN</td><td>11077</td></tr>",
                            "<tr><td>66</td><td>Product LQMGN</td><td>10774</td></tr>",
                            "<tr><td>67</td><td>Product XLXQF</td><td>11054</td></tr>",
                            "<tr><td>67</td><td>Product XLXQF</td><td>10939</td></tr>",
                            "<tr><td>68</td><td>Product TBTBL</td><td>11064</td></tr>",
                            "<tr><td>68</td><td>Product TBTBL</td><td>11048</td></tr>",
                            "<tr><td>69</td><td>Product COAXA</td><td>11033</td></tr>",
                            "<tr><td>69</td><td>Product COAXA</td><td>11022</td></tr>",
                            "<tr><td>70</td><td>Product TOONT</td><td>11062</td></tr>",
                            "<tr><td>70</td><td>Product TOONT</td><td>11057</td></tr>",
                            "<tr><td>71</td><td>Product MYMOI</td><td>11038</td></tr>",
                            "<tr><td>71</td><td>Product MYMOI</td><td>11031</td></tr>",
                            "<tr><td>72</td><td>Product GEEOO</td><td>11021</td></tr>",
                            "<tr><td>72</td><td>Product GEEOO</td><td>10992</td></tr>",
                            "<tr><td>73</td><td>Product WEUJZ</td><td>11077</td></tr>",
                            "<tr><td>73</td><td>Product WEUJZ</td><td>10881</td></tr>",
                            "<tr><td>74</td><td>Product BKAZJ</td><td>10998</td></tr>",
                            "<tr><td>74</td><td>Product BKAZJ</td><td>10846</td></tr>",
                            "<tr><td>75</td><td>Product BWRLG</td><td>11077</td></tr>",
                            "<tr><td>75</td><td>Product BWRLG</td><td>10998</td></tr>",
                            "<tr><td>76</td><td>Product JYGFE</td><td>11075</td></tr>",
                            "<tr><td>76</td><td>Product JYGFE</td><td>11050</td></tr>",
                            "<tr><td>77</td><td>Product LUNZZ</td><td>11077</td></tr>",
                            "<tr><td>77</td><td>Product LUNZZ</td><td>11068</td></tr>",
                            "</table>"
                        ]
                    }
                }
            ],
            "execution_count": 28
        },
        {
            "cell_type": "markdown",
            "source": [
                "3.2. Utilizar el operador CROSS APPLY y una subconsulta correlacionada. Ordenar el resultado por la columna productid."
            ],
            "metadata": {
                "azdata_cell_guid": "ac333855-7abb-49b3-94f4-5553a5a0c6b1"
            }
        },
        {
            "cell_type": "code",
            "source": [
                "SELECT \r\n",
                "    p.productid,\r\n",
                "    p.productname,\r\n",
                "    od.orderid\r\n",
                "FROM Production.Products p\r\n",
                "CROSS APPLY (\r\n",
                "    SELECT TOP 2 od.orderid\r\n",
                "    FROM Sales.OrderDetails od\r\n",
                "    WHERE od.productid = p.productid\r\n",
                "    ORDER BY od.orderid DESC\r\n",
                ") AS od\r\n",
                "ORDER BY p.productid, od.orderid DESC;\r\n",
                ""
            ],
            "metadata": {
                "azdata_cell_guid": "014bdfbc-94d7-482a-9d53-2b3a076864e8",
                "language": "sql"
            },
            "outputs": [
                {
                    "output_type": "display_data",
                    "data": {
                        "text/html": "(154 rows affected)"
                    },
                    "metadata": {}
                },
                {
                    "output_type": "display_data",
                    "data": {
                        "text/html": "Total execution time: 00:00:00.005"
                    },
                    "metadata": {}
                },
                {
                    "output_type": "execute_result",
                    "metadata": {},
                    "execution_count": 29,
                    "data": {
                        "application/vnd.dataresource+json": {
                            "schema": {
                                "fields": [
                                    {
                                        "name": "productid"
                                    },
                                    {
                                        "name": "productname"
                                    },
                                    {
                                        "name": "orderid"
                                    }
                                ]
                            },
                            "data": [
                                {
                                    "0": "1",
                                    "1": "Product HHYDP",
                                    "2": "11070"
                                },
                                {
                                    "0": "1",
                                    "1": "Product HHYDP",
                                    "2": "11047"
                                },
                                {
                                    "0": "2",
                                    "1": "Product RECZE",
                                    "2": "11077"
                                },
                                {
                                    "0": "2",
                                    "1": "Product RECZE",
                                    "2": "11075"
                                },
                                {
                                    "0": "3",
                                    "1": "Product IMEHJ",
                                    "2": "11077"
                                },
                                {
                                    "0": "3",
                                    "1": "Product IMEHJ",
                                    "2": "11017"
                                },
                                {
                                    "0": "4",
                                    "1": "Product KSBRM",
                                    "2": "11077"
                                },
                                {
                                    "0": "4",
                                    "1": "Product KSBRM",
                                    "2": "11000"
                                },
                                {
                                    "0": "5",
                                    "1": "Product EPEIM",
                                    "2": "11047"
                                },
                                {
                                    "0": "5",
                                    "1": "Product EPEIM",
                                    "2": "11030"
                                },
                                {
                                    "0": "6",
                                    "1": "Product VAIIV",
                                    "2": "11077"
                                },
                                {
                                    "0": "6",
                                    "1": "Product VAIIV",
                                    "2": "11076"
                                },
                                {
                                    "0": "7",
                                    "1": "Product HMLNI",
                                    "2": "11077"
                                },
                                {
                                    "0": "7",
                                    "1": "Product HMLNI",
                                    "2": "11071"
                                },
                                {
                                    "0": "8",
                                    "1": "Product WVJFP",
                                    "2": "11077"
                                },
                                {
                                    "0": "8",
                                    "1": "Product WVJFP",
                                    "2": "11007"
                                },
                                {
                                    "0": "9",
                                    "1": "Product AOZBW",
                                    "2": "10848"
                                },
                                {
                                    "0": "9",
                                    "1": "Product AOZBW",
                                    "2": "10693"
                                },
                                {
                                    "0": "10",
                                    "1": "Product YHXGE",
                                    "2": "11077"
                                },
                                {
                                    "0": "10",
                                    "1": "Product YHXGE",
                                    "2": "11020"
                                },
                                {
                                    "0": "11",
                                    "1": "Product QMVUN",
                                    "2": "11073"
                                },
                                {
                                    "0": "11",
                                    "1": "Product QMVUN",
                                    "2": "11043"
                                },
                                {
                                    "0": "12",
                                    "1": "Product OSFNS",
                                    "2": "11077"
                                },
                                {
                                    "0": "12",
                                    "1": "Product OSFNS",
                                    "2": "11049"
                                },
                                {
                                    "0": "13",
                                    "1": "Product POXFU",
                                    "2": "11077"
                                },
                                {
                                    "0": "13",
                                    "1": "Product POXFU",
                                    "2": "11071"
                                },
                                {
                                    "0": "14",
                                    "1": "Product PWCJB",
                                    "2": "11077"
                                },
                                {
                                    "0": "14",
                                    "1": "Product PWCJB",
                                    "2": "11076"
                                },
                                {
                                    "0": "15",
                                    "1": "Product KSZOI",
                                    "2": "10657"
                                },
                                {
                                    "0": "15",
                                    "1": "Product KSZOI",
                                    "2": "10592"
                                },
                                {
                                    "0": "16",
                                    "1": "Product PAFRH",
                                    "2": "11077"
                                },
                                {
                                    "0": "16",
                                    "1": "Product PAFRH",
                                    "2": "11074"
                                },
                                {
                                    "0": "17",
                                    "1": "Product BLCAX",
                                    "2": "11064"
                                },
                                {
                                    "0": "17",
                                    "1": "Product BLCAX",
                                    "2": "11059"
                                },
                                {
                                    "0": "18",
                                    "1": "Product CKEDC",
                                    "2": "11053"
                                },
                                {
                                    "0": "18",
                                    "1": "Product CKEDC",
                                    "2": "11026"
                                },
                                {
                                    "0": "19",
                                    "1": "Product XKXDO",
                                    "2": "11076"
                                },
                                {
                                    "0": "19",
                                    "1": "Product XKXDO",
                                    "2": "11066"
                                },
                                {
                                    "0": "20",
                                    "1": "Product QHFFP",
                                    "2": "11077"
                                },
                                {
                                    "0": "20",
                                    "1": "Product QHFFP",
                                    "2": "11021"
                                },
                                {
                                    "0": "21",
                                    "1": "Product VJZZH",
                                    "2": "11058"
                                },
                                {
                                    "0": "21",
                                    "1": "Product VJZZH",
                                    "2": "11040"
                                },
                                {
                                    "0": "22",
                                    "1": "Product CPHFY",
                                    "2": "11001"
                                },
                                {
                                    "0": "22",
                                    "1": "Product CPHFY",
                                    "2": "10943"
                                },
                                {
                                    "0": "23",
                                    "1": "Product JLUDZ",
                                    "2": "11077"
                                },
                                {
                                    "0": "23",
                                    "1": "Product JLUDZ",
                                    "2": "11013"
                                },
                                {
                                    "0": "24",
                                    "1": "Product QOGNU",
                                    "2": "11073"
                                },
                                {
                                    "0": "24",
                                    "1": "Product QOGNU",
                                    "2": "11055"
                                },
                                {
                                    "0": "25",
                                    "1": "Product LYLNI",
                                    "2": "11055"
                                },
                                {
                                    "0": "25",
                                    "1": "Product LYLNI",
                                    "2": "10919"
                                },
                                {
                                    "0": "26",
                                    "1": "Product HLGZA",
                                    "2": "11024"
                                },
                                {
                                    "0": "26",
                                    "1": "Product HLGZA",
                                    "2": "11021"
                                },
                                {
                                    "0": "27",
                                    "1": "Product SMIOH",
                                    "2": "10979"
                                },
                                {
                                    "0": "27",
                                    "1": "Product SMIOH",
                                    "2": "10930"
                                },
                                {
                                    "0": "28",
                                    "1": "Product OFBNT",
                                    "2": "11068"
                                },
                                {
                                    "0": "28",
                                    "1": "Product OFBNT",
                                    "2": "11039"
                                },
                                {
                                    "0": "29",
                                    "1": "Product VJXYN",
                                    "2": "11030"
                                },
                                {
                                    "0": "29",
                                    "1": "Product VJXYN",
                                    "2": "11007"
                                },
                                {
                                    "0": "30",
                                    "1": "Product LYERX",
                                    "2": "11065"
                                },
                                {
                                    "0": "30",
                                    "1": "Product LYERX",
                                    "2": "11015"
                                },
                                {
                                    "0": "31",
                                    "1": "Product XWOXC",
                                    "2": "11070"
                                },
                                {
                                    "0": "31",
                                    "1": "Product XWOXC",
                                    "2": "11016"
                                },
                                {
                                    "0": "32",
                                    "1": "Product NUNAW",
                                    "2": "11077"
                                },
                                {
                                    "0": "32",
                                    "1": "Product NUNAW",
                                    "2": "11053"
                                },
                                {
                                    "0": "33",
                                    "1": "Product ASTMN",
                                    "2": "11054"
                                },
                                {
                                    "0": "33",
                                    "1": "Product ASTMN",
                                    "2": "11045"
                                },
                                {
                                    "0": "34",
                                    "1": "Product SWNJY",
                                    "2": "11066"
                                },
                                {
                                    "0": "34",
                                    "1": "Product SWNJY",
                                    "2": "11063"
                                },
                                {
                                    "0": "35",
                                    "1": "Product NEVTJ",
                                    "2": "11046"
                                },
                                {
                                    "0": "35",
                                    "1": "Product NEVTJ",
                                    "2": "11039"
                                },
                                {
                                    "0": "36",
                                    "1": "Product GMKIJ",
                                    "2": "11032"
                                },
                                {
                                    "0": "36",
                                    "1": "Product GMKIJ",
                                    "2": "11016"
                                },
                                {
                                    "0": "37",
                                    "1": "Product EVFFA",
                                    "2": "10966"
                                },
                                {
                                    "0": "37",
                                    "1": "Product EVFFA",
                                    "2": "10847"
                                },
                                {
                                    "0": "38",
                                    "1": "Product QDOMO",
                                    "2": "11032"
                                },
                                {
                                    "0": "38",
                                    "1": "Product QDOMO",
                                    "2": "10981"
                                },
                                {
                                    "0": "39",
                                    "1": "Product LSOFL",
                                    "2": "11077"
                                },
                                {
                                    "0": "39",
                                    "1": "Product LSOFL",
                                    "2": "11069"
                                },
                                {
                                    "0": "40",
                                    "1": "Product YZIXQ",
                                    "2": "11063"
                                },
                                {
                                    "0": "40",
                                    "1": "Product YZIXQ",
                                    "2": "11038"
                                },
                                {
                                    "0": "41",
                                    "1": "Product TTEEX",
                                    "2": "11077"
                                },
                                {
                                    "0": "41",
                                    "1": "Product TTEEX",
                                    "2": "11072"
                                },
                                {
                                    "0": "42",
                                    "1": "Product RJVNM",
                                    "2": "11035"
                                },
                                {
                                    "0": "42",
                                    "1": "Product RJVNM",
                                    "2": "11013"
                                },
                                {
                                    "0": "43",
                                    "1": "Product ZZZHR",
                                    "2": "11068"
                                },
                                {
                                    "0": "43",
                                    "1": "Product ZZZHR",
                                    "2": "11052"
                                },
                                {
                                    "0": "44",
                                    "1": "Product VJIEO",
                                    "2": "11042"
                                },
                                {
                                    "0": "44",
                                    "1": "Product VJIEO",
                                    "2": "11034"
                                },
                                {
                                    "0": "45",
                                    "1": "Product AQOKR",
                                    "2": "11013"
                                },
                                {
                                    "0": "45",
                                    "1": "Product AQOKR",
                                    "2": "10954"
                                },
                                {
                                    "0": "46",
                                    "1": "Product CBRRL",
                                    "2": "11077"
                                },
                                {
                                    "0": "46",
                                    "1": "Product CBRRL",
                                    "2": "11075"
                                },
                                {
                                    "0": "47",
                                    "1": "Product EZZPR",
                                    "2": "10977"
                                },
                                {
                                    "0": "47",
                                    "1": "Product EZZPR",
                                    "2": "10956"
                                },
                                {
                                    "0": "48",
                                    "1": "Product MYNXN",
                                    "2": "10814"
                                },
                                {
                                    "0": "48",
                                    "1": "Product MYNXN",
                                    "2": "10704"
                                },
                                {
                                    "0": "49",
                                    "1": "Product FPYPN",
                                    "2": "11039"
                                },
                                {
                                    "0": "49",
                                    "1": "Product FPYPN",
                                    "2": "11019"
                                },
                                {
                                    "0": "50",
                                    "1": "Product BIUDV",
                                    "2": "11072"
                                },
                                {
                                    "0": "50",
                                    "1": "Product BIUDV",
                                    "2": "10948"
                                },
                                {
                                    "0": "51",
                                    "1": "Product APITJ",
                                    "2": "11055"
                                },
                                {
                                    "0": "51",
                                    "1": "Product APITJ",
                                    "2": "11045"
                                },
                                {
                                    "0": "52",
                                    "1": "Product QSRXF",
                                    "2": "11077"
                                },
                                {
                                    "0": "52",
                                    "1": "Product QSRXF",
                                    "2": "11038"
                                },
                                {
                                    "0": "53",
                                    "1": "Product BKGEA",
                                    "2": "11064"
                                },
                                {
                                    "0": "53",
                                    "1": "Product BKGEA",
                                    "2": "11062"
                                },
                                {
                                    "0": "54",
                                    "1": "Product QAQRL",
                                    "2": "11065"
                                },
                                {
                                    "0": "54",
                                    "1": "Product QAQRL",
                                    "2": "11035"
                                },
                                {
                                    "0": "55",
                                    "1": "Product YYWRT",
                                    "2": "11077"
                                },
                                {
                                    "0": "55",
                                    "1": "Product YYWRT",
                                    "2": "11064"
                                },
                                {
                                    "0": "56",
                                    "1": "Product VKCMF",
                                    "2": "11029"
                                },
                                {
                                    "0": "56",
                                    "1": "Product VKCMF",
                                    "2": "11018"
                                },
                                {
                                    "0": "57",
                                    "1": "Product OVLQI",
                                    "2": "11055"
                                },
                                {
                                    "0": "57",
                                    "1": "Product OVLQI",
                                    "2": "11039"
                                },
                                {
                                    "0": "58",
                                    "1": "Product ACRVI",
                                    "2": "11011"
                                },
                                {
                                    "0": "58",
                                    "1": "Product ACRVI",
                                    "2": "10930"
                                },
                                {
                                    "0": "59",
                                    "1": "Product UKXRI",
                                    "2": "11036"
                                },
                                {
                                    "0": "59",
                                    "1": "Product UKXRI",
                                    "2": "11032"
                                },
                                {
                                    "0": "60",
                                    "1": "Product WHBYK",
                                    "2": "11077"
                                },
                                {
                                    "0": "60",
                                    "1": "Product WHBYK",
                                    "2": "11061"
                                },
                                {
                                    "0": "61",
                                    "1": "Product XYZPE",
                                    "2": "11058"
                                },
                                {
                                    "0": "61",
                                    "1": "Product XYZPE",
                                    "2": "11052"
                                },
                                {
                                    "0": "62",
                                    "1": "Product WUXYK",
                                    "2": "11044"
                                },
                                {
                                    "0": "62",
                                    "1": "Product WUXYK",
                                    "2": "11027"
                                },
                                {
                                    "0": "63",
                                    "1": "Product ICKNK",
                                    "2": "11041"
                                },
                                {
                                    "0": "63",
                                    "1": "Product ICKNK",
                                    "2": "11029"
                                },
                                {
                                    "0": "64",
                                    "1": "Product HCQDE",
                                    "2": "11077"
                                },
                                {
                                    "0": "64",
                                    "1": "Product HCQDE",
                                    "2": "11072"
                                },
                                {
                                    "0": "65",
                                    "1": "Product XYWBZ",
                                    "2": "11024"
                                },
                                {
                                    "0": "65",
                                    "1": "Product XYWBZ",
                                    "2": "10903"
                                },
                                {
                                    "0": "66",
                                    "1": "Product LQMGN",
                                    "2": "11077"
                                },
                                {
                                    "0": "66",
                                    "1": "Product LQMGN",
                                    "2": "10774"
                                },
                                {
                                    "0": "67",
                                    "1": "Product XLXQF",
                                    "2": "11054"
                                },
                                {
                                    "0": "67",
                                    "1": "Product XLXQF",
                                    "2": "10939"
                                },
                                {
                                    "0": "68",
                                    "1": "Product TBTBL",
                                    "2": "11064"
                                },
                                {
                                    "0": "68",
                                    "1": "Product TBTBL",
                                    "2": "11048"
                                },
                                {
                                    "0": "69",
                                    "1": "Product COAXA",
                                    "2": "11033"
                                },
                                {
                                    "0": "69",
                                    "1": "Product COAXA",
                                    "2": "11022"
                                },
                                {
                                    "0": "70",
                                    "1": "Product TOONT",
                                    "2": "11062"
                                },
                                {
                                    "0": "70",
                                    "1": "Product TOONT",
                                    "2": "11057"
                                },
                                {
                                    "0": "71",
                                    "1": "Product MYMOI",
                                    "2": "11038"
                                },
                                {
                                    "0": "71",
                                    "1": "Product MYMOI",
                                    "2": "11031"
                                },
                                {
                                    "0": "72",
                                    "1": "Product GEEOO",
                                    "2": "11021"
                                },
                                {
                                    "0": "72",
                                    "1": "Product GEEOO",
                                    "2": "10992"
                                },
                                {
                                    "0": "73",
                                    "1": "Product WEUJZ",
                                    "2": "11077"
                                },
                                {
                                    "0": "73",
                                    "1": "Product WEUJZ",
                                    "2": "10881"
                                },
                                {
                                    "0": "74",
                                    "1": "Product BKAZJ",
                                    "2": "10998"
                                },
                                {
                                    "0": "74",
                                    "1": "Product BKAZJ",
                                    "2": "10846"
                                },
                                {
                                    "0": "75",
                                    "1": "Product BWRLG",
                                    "2": "11077"
                                },
                                {
                                    "0": "75",
                                    "1": "Product BWRLG",
                                    "2": "10998"
                                },
                                {
                                    "0": "76",
                                    "1": "Product JYGFE",
                                    "2": "11075"
                                },
                                {
                                    "0": "76",
                                    "1": "Product JYGFE",
                                    "2": "11050"
                                },
                                {
                                    "0": "77",
                                    "1": "Product LUNZZ",
                                    "2": "11077"
                                },
                                {
                                    "0": "77",
                                    "1": "Product LUNZZ",
                                    "2": "11068"
                                }
                            ]
                        },
                        "text/html": [
                            "<table>",
                            "<tr><th>productid</th><th>productname</th><th>orderid</th></tr>",
                            "<tr><td>1</td><td>Product HHYDP</td><td>11070</td></tr>",
                            "<tr><td>1</td><td>Product HHYDP</td><td>11047</td></tr>",
                            "<tr><td>2</td><td>Product RECZE</td><td>11077</td></tr>",
                            "<tr><td>2</td><td>Product RECZE</td><td>11075</td></tr>",
                            "<tr><td>3</td><td>Product IMEHJ</td><td>11077</td></tr>",
                            "<tr><td>3</td><td>Product IMEHJ</td><td>11017</td></tr>",
                            "<tr><td>4</td><td>Product KSBRM</td><td>11077</td></tr>",
                            "<tr><td>4</td><td>Product KSBRM</td><td>11000</td></tr>",
                            "<tr><td>5</td><td>Product EPEIM</td><td>11047</td></tr>",
                            "<tr><td>5</td><td>Product EPEIM</td><td>11030</td></tr>",
                            "<tr><td>6</td><td>Product VAIIV</td><td>11077</td></tr>",
                            "<tr><td>6</td><td>Product VAIIV</td><td>11076</td></tr>",
                            "<tr><td>7</td><td>Product HMLNI</td><td>11077</td></tr>",
                            "<tr><td>7</td><td>Product HMLNI</td><td>11071</td></tr>",
                            "<tr><td>8</td><td>Product WVJFP</td><td>11077</td></tr>",
                            "<tr><td>8</td><td>Product WVJFP</td><td>11007</td></tr>",
                            "<tr><td>9</td><td>Product AOZBW</td><td>10848</td></tr>",
                            "<tr><td>9</td><td>Product AOZBW</td><td>10693</td></tr>",
                            "<tr><td>10</td><td>Product YHXGE</td><td>11077</td></tr>",
                            "<tr><td>10</td><td>Product YHXGE</td><td>11020</td></tr>",
                            "<tr><td>11</td><td>Product QMVUN</td><td>11073</td></tr>",
                            "<tr><td>11</td><td>Product QMVUN</td><td>11043</td></tr>",
                            "<tr><td>12</td><td>Product OSFNS</td><td>11077</td></tr>",
                            "<tr><td>12</td><td>Product OSFNS</td><td>11049</td></tr>",
                            "<tr><td>13</td><td>Product POXFU</td><td>11077</td></tr>",
                            "<tr><td>13</td><td>Product POXFU</td><td>11071</td></tr>",
                            "<tr><td>14</td><td>Product PWCJB</td><td>11077</td></tr>",
                            "<tr><td>14</td><td>Product PWCJB</td><td>11076</td></tr>",
                            "<tr><td>15</td><td>Product KSZOI</td><td>10657</td></tr>",
                            "<tr><td>15</td><td>Product KSZOI</td><td>10592</td></tr>",
                            "<tr><td>16</td><td>Product PAFRH</td><td>11077</td></tr>",
                            "<tr><td>16</td><td>Product PAFRH</td><td>11074</td></tr>",
                            "<tr><td>17</td><td>Product BLCAX</td><td>11064</td></tr>",
                            "<tr><td>17</td><td>Product BLCAX</td><td>11059</td></tr>",
                            "<tr><td>18</td><td>Product CKEDC</td><td>11053</td></tr>",
                            "<tr><td>18</td><td>Product CKEDC</td><td>11026</td></tr>",
                            "<tr><td>19</td><td>Product XKXDO</td><td>11076</td></tr>",
                            "<tr><td>19</td><td>Product XKXDO</td><td>11066</td></tr>",
                            "<tr><td>20</td><td>Product QHFFP</td><td>11077</td></tr>",
                            "<tr><td>20</td><td>Product QHFFP</td><td>11021</td></tr>",
                            "<tr><td>21</td><td>Product VJZZH</td><td>11058</td></tr>",
                            "<tr><td>21</td><td>Product VJZZH</td><td>11040</td></tr>",
                            "<tr><td>22</td><td>Product CPHFY</td><td>11001</td></tr>",
                            "<tr><td>22</td><td>Product CPHFY</td><td>10943</td></tr>",
                            "<tr><td>23</td><td>Product JLUDZ</td><td>11077</td></tr>",
                            "<tr><td>23</td><td>Product JLUDZ</td><td>11013</td></tr>",
                            "<tr><td>24</td><td>Product QOGNU</td><td>11073</td></tr>",
                            "<tr><td>24</td><td>Product QOGNU</td><td>11055</td></tr>",
                            "<tr><td>25</td><td>Product LYLNI</td><td>11055</td></tr>",
                            "<tr><td>25</td><td>Product LYLNI</td><td>10919</td></tr>",
                            "<tr><td>26</td><td>Product HLGZA</td><td>11024</td></tr>",
                            "<tr><td>26</td><td>Product HLGZA</td><td>11021</td></tr>",
                            "<tr><td>27</td><td>Product SMIOH</td><td>10979</td></tr>",
                            "<tr><td>27</td><td>Product SMIOH</td><td>10930</td></tr>",
                            "<tr><td>28</td><td>Product OFBNT</td><td>11068</td></tr>",
                            "<tr><td>28</td><td>Product OFBNT</td><td>11039</td></tr>",
                            "<tr><td>29</td><td>Product VJXYN</td><td>11030</td></tr>",
                            "<tr><td>29</td><td>Product VJXYN</td><td>11007</td></tr>",
                            "<tr><td>30</td><td>Product LYERX</td><td>11065</td></tr>",
                            "<tr><td>30</td><td>Product LYERX</td><td>11015</td></tr>",
                            "<tr><td>31</td><td>Product XWOXC</td><td>11070</td></tr>",
                            "<tr><td>31</td><td>Product XWOXC</td><td>11016</td></tr>",
                            "<tr><td>32</td><td>Product NUNAW</td><td>11077</td></tr>",
                            "<tr><td>32</td><td>Product NUNAW</td><td>11053</td></tr>",
                            "<tr><td>33</td><td>Product ASTMN</td><td>11054</td></tr>",
                            "<tr><td>33</td><td>Product ASTMN</td><td>11045</td></tr>",
                            "<tr><td>34</td><td>Product SWNJY</td><td>11066</td></tr>",
                            "<tr><td>34</td><td>Product SWNJY</td><td>11063</td></tr>",
                            "<tr><td>35</td><td>Product NEVTJ</td><td>11046</td></tr>",
                            "<tr><td>35</td><td>Product NEVTJ</td><td>11039</td></tr>",
                            "<tr><td>36</td><td>Product GMKIJ</td><td>11032</td></tr>",
                            "<tr><td>36</td><td>Product GMKIJ</td><td>11016</td></tr>",
                            "<tr><td>37</td><td>Product EVFFA</td><td>10966</td></tr>",
                            "<tr><td>37</td><td>Product EVFFA</td><td>10847</td></tr>",
                            "<tr><td>38</td><td>Product QDOMO</td><td>11032</td></tr>",
                            "<tr><td>38</td><td>Product QDOMO</td><td>10981</td></tr>",
                            "<tr><td>39</td><td>Product LSOFL</td><td>11077</td></tr>",
                            "<tr><td>39</td><td>Product LSOFL</td><td>11069</td></tr>",
                            "<tr><td>40</td><td>Product YZIXQ</td><td>11063</td></tr>",
                            "<tr><td>40</td><td>Product YZIXQ</td><td>11038</td></tr>",
                            "<tr><td>41</td><td>Product TTEEX</td><td>11077</td></tr>",
                            "<tr><td>41</td><td>Product TTEEX</td><td>11072</td></tr>",
                            "<tr><td>42</td><td>Product RJVNM</td><td>11035</td></tr>",
                            "<tr><td>42</td><td>Product RJVNM</td><td>11013</td></tr>",
                            "<tr><td>43</td><td>Product ZZZHR</td><td>11068</td></tr>",
                            "<tr><td>43</td><td>Product ZZZHR</td><td>11052</td></tr>",
                            "<tr><td>44</td><td>Product VJIEO</td><td>11042</td></tr>",
                            "<tr><td>44</td><td>Product VJIEO</td><td>11034</td></tr>",
                            "<tr><td>45</td><td>Product AQOKR</td><td>11013</td></tr>",
                            "<tr><td>45</td><td>Product AQOKR</td><td>10954</td></tr>",
                            "<tr><td>46</td><td>Product CBRRL</td><td>11077</td></tr>",
                            "<tr><td>46</td><td>Product CBRRL</td><td>11075</td></tr>",
                            "<tr><td>47</td><td>Product EZZPR</td><td>10977</td></tr>",
                            "<tr><td>47</td><td>Product EZZPR</td><td>10956</td></tr>",
                            "<tr><td>48</td><td>Product MYNXN</td><td>10814</td></tr>",
                            "<tr><td>48</td><td>Product MYNXN</td><td>10704</td></tr>",
                            "<tr><td>49</td><td>Product FPYPN</td><td>11039</td></tr>",
                            "<tr><td>49</td><td>Product FPYPN</td><td>11019</td></tr>",
                            "<tr><td>50</td><td>Product BIUDV</td><td>11072</td></tr>",
                            "<tr><td>50</td><td>Product BIUDV</td><td>10948</td></tr>",
                            "<tr><td>51</td><td>Product APITJ</td><td>11055</td></tr>",
                            "<tr><td>51</td><td>Product APITJ</td><td>11045</td></tr>",
                            "<tr><td>52</td><td>Product QSRXF</td><td>11077</td></tr>",
                            "<tr><td>52</td><td>Product QSRXF</td><td>11038</td></tr>",
                            "<tr><td>53</td><td>Product BKGEA</td><td>11064</td></tr>",
                            "<tr><td>53</td><td>Product BKGEA</td><td>11062</td></tr>",
                            "<tr><td>54</td><td>Product QAQRL</td><td>11065</td></tr>",
                            "<tr><td>54</td><td>Product QAQRL</td><td>11035</td></tr>",
                            "<tr><td>55</td><td>Product YYWRT</td><td>11077</td></tr>",
                            "<tr><td>55</td><td>Product YYWRT</td><td>11064</td></tr>",
                            "<tr><td>56</td><td>Product VKCMF</td><td>11029</td></tr>",
                            "<tr><td>56</td><td>Product VKCMF</td><td>11018</td></tr>",
                            "<tr><td>57</td><td>Product OVLQI</td><td>11055</td></tr>",
                            "<tr><td>57</td><td>Product OVLQI</td><td>11039</td></tr>",
                            "<tr><td>58</td><td>Product ACRVI</td><td>11011</td></tr>",
                            "<tr><td>58</td><td>Product ACRVI</td><td>10930</td></tr>",
                            "<tr><td>59</td><td>Product UKXRI</td><td>11036</td></tr>",
                            "<tr><td>59</td><td>Product UKXRI</td><td>11032</td></tr>",
                            "<tr><td>60</td><td>Product WHBYK</td><td>11077</td></tr>",
                            "<tr><td>60</td><td>Product WHBYK</td><td>11061</td></tr>",
                            "<tr><td>61</td><td>Product XYZPE</td><td>11058</td></tr>",
                            "<tr><td>61</td><td>Product XYZPE</td><td>11052</td></tr>",
                            "<tr><td>62</td><td>Product WUXYK</td><td>11044</td></tr>",
                            "<tr><td>62</td><td>Product WUXYK</td><td>11027</td></tr>",
                            "<tr><td>63</td><td>Product ICKNK</td><td>11041</td></tr>",
                            "<tr><td>63</td><td>Product ICKNK</td><td>11029</td></tr>",
                            "<tr><td>64</td><td>Product HCQDE</td><td>11077</td></tr>",
                            "<tr><td>64</td><td>Product HCQDE</td><td>11072</td></tr>",
                            "<tr><td>65</td><td>Product XYWBZ</td><td>11024</td></tr>",
                            "<tr><td>65</td><td>Product XYWBZ</td><td>10903</td></tr>",
                            "<tr><td>66</td><td>Product LQMGN</td><td>11077</td></tr>",
                            "<tr><td>66</td><td>Product LQMGN</td><td>10774</td></tr>",
                            "<tr><td>67</td><td>Product XLXQF</td><td>11054</td></tr>",
                            "<tr><td>67</td><td>Product XLXQF</td><td>10939</td></tr>",
                            "<tr><td>68</td><td>Product TBTBL</td><td>11064</td></tr>",
                            "<tr><td>68</td><td>Product TBTBL</td><td>11048</td></tr>",
                            "<tr><td>69</td><td>Product COAXA</td><td>11033</td></tr>",
                            "<tr><td>69</td><td>Product COAXA</td><td>11022</td></tr>",
                            "<tr><td>70</td><td>Product TOONT</td><td>11062</td></tr>",
                            "<tr><td>70</td><td>Product TOONT</td><td>11057</td></tr>",
                            "<tr><td>71</td><td>Product MYMOI</td><td>11038</td></tr>",
                            "<tr><td>71</td><td>Product MYMOI</td><td>11031</td></tr>",
                            "<tr><td>72</td><td>Product GEEOO</td><td>11021</td></tr>",
                            "<tr><td>72</td><td>Product GEEOO</td><td>10992</td></tr>",
                            "<tr><td>73</td><td>Product WEUJZ</td><td>11077</td></tr>",
                            "<tr><td>73</td><td>Product WEUJZ</td><td>10881</td></tr>",
                            "<tr><td>74</td><td>Product BKAZJ</td><td>10998</td></tr>",
                            "<tr><td>74</td><td>Product BKAZJ</td><td>10846</td></tr>",
                            "<tr><td>75</td><td>Product BWRLG</td><td>11077</td></tr>",
                            "<tr><td>75</td><td>Product BWRLG</td><td>10998</td></tr>",
                            "<tr><td>76</td><td>Product JYGFE</td><td>11075</td></tr>",
                            "<tr><td>76</td><td>Product JYGFE</td><td>11050</td></tr>",
                            "<tr><td>77</td><td>Product LUNZZ</td><td>11077</td></tr>",
                            "<tr><td>77</td><td>Product LUNZZ</td><td>11068</td></tr>",
                            "</table>"
                        ]
                    }
                }
            ],
            "execution_count": 29
        },
        {
            "cell_type": "markdown",
            "source": [
                "3.3. Ejecutar la sentencia siguiente para crear la función fnGetTop3ProductsForCustomer."
            ],
            "metadata": {
                "azdata_cell_guid": "d42af140-533b-440a-ab49-bb36b2ef5e23"
            }
        },
        {
            "cell_type": "code",
            "source": [
                "DROP FUNCTION IF EXISTS dbo.fnGetTop3ProductsForCustomer; \r\n",
                "GO \r\n",
                "CREATE FUNCTION dbo.fnGetTop3ProductsForCustomer (@custid AS INT) \r\n",
                "RETURNS TABLE AS \r\n",
                "RETURN \r\n",
                "SELECT TOP(3) d.productid, p.productname, SUM(d.qty * d.unitprice) AS totalsalesamount \r\n",
                "FROM Sales.Orders AS o \r\n",
                "INNER JOIN Sales.OrderDetails AS d ON d.orderid = o.orderid \r\n",
                "INNER JOIN Production.Products AS p ON p.productid = d.productid \r\n",
                "WHERE custid = @custid \r\n",
                "GROUP BY d.productid, p.productname \r\n",
                "ORDER BY totalsalesamount DESC;"
            ],
            "metadata": {
                "azdata_cell_guid": "a34f2902-78f7-462d-a74f-8f90df529641",
                "language": "sql"
            },
            "outputs": [
                {
                    "output_type": "display_data",
                    "data": {
                        "text/html": "Commands completed successfully."
                    },
                    "metadata": {}
                },
                {
                    "output_type": "display_data",
                    "data": {
                        "text/html": "Commands completed successfully."
                    },
                    "metadata": {}
                },
                {
                    "output_type": "display_data",
                    "data": {
                        "text/html": "Total execution time: 00:00:00.003"
                    },
                    "metadata": {}
                }
            ],
            "execution_count": 30
        },
        {
            "cell_type": "markdown",
            "source": [
                "3.4. Escribir una sentencia SELECT statement para traer las columnas custid y contactname de la tabla Sales.Customers. Utilizar el operador CROSS APPLY con la función dbo.fnGetTop3ProductsForCustomer para traer las columnas productid, productname y totalsalesamount por cada cliente."
            ],
            "metadata": {
                "azdata_cell_guid": "a8ea6f3f-bb43-4ecb-92c1-0c36d9a5d1fb"
            }
        },
        {
            "cell_type": "code",
            "source": [
                "SELECT \r\n",
                "    c.custid,\r\n",
                "    c.contactname,\r\n",
                "    p.productid,\r\n",
                "    p.productname,\r\n",
                "    p.totalsalesamount\r\n",
                "FROM Sales.Customers c\r\n",
                "CROSS APPLY dbo.fnGetTop3ProductsForCustomer(c.custid) AS p\r\n",
                "ORDER BY c.custid, p.totalsalesamount DESC;\r\n",
                ""
            ],
            "metadata": {
                "azdata_cell_guid": "ff759fc5-fa9c-4e29-a69e-d6ef1eefdde1",
                "language": "sql"
            },
            "outputs": [
                {
                    "output_type": "display_data",
                    "data": {
                        "text/html": "(265 rows affected)"
                    },
                    "metadata": {}
                },
                {
                    "output_type": "display_data",
                    "data": {
                        "text/html": "Total execution time: 00:00:00.018"
                    },
                    "metadata": {}
                },
                {
                    "output_type": "execute_result",
                    "metadata": {},
                    "execution_count": 31,
                    "data": {
                        "application/vnd.dataresource+json": {
                            "schema": {
                                "fields": [
                                    {
                                        "name": "custid"
                                    },
                                    {
                                        "name": "contactname"
                                    },
                                    {
                                        "name": "productid"
                                    },
                                    {
                                        "name": "productname"
                                    },
                                    {
                                        "name": "totalsalesamount"
                                    }
                                ]
                            },
                            "data": [
                                {
                                    "0": "1",
                                    "1": "Allen, Michael",
                                    "2": "63",
                                    "3": "Product ICKNK",
                                    "4": "878,00"
                                },
                                {
                                    "0": "1",
                                    "1": "Allen, Michael",
                                    "2": "59",
                                    "3": "Product UKXRI",
                                    "4": "825,00"
                                },
                                {
                                    "0": "1",
                                    "1": "Allen, Michael",
                                    "2": "28",
                                    "3": "Product OFBNT",
                                    "4": "775,20"
                                },
                                {
                                    "0": "2",
                                    "1": "Hassall, Mark",
                                    "2": "72",
                                    "3": "Product GEEOO",
                                    "4": "348,00"
                                },
                                {
                                    "0": "2",
                                    "1": "Hassall, Mark",
                                    "2": "60",
                                    "3": "Product WHBYK",
                                    "4": "340,00"
                                },
                                {
                                    "0": "2",
                                    "1": "Hassall, Mark",
                                    "2": "32",
                                    "3": "Product NUNAW",
                                    "4": "320,00"
                                },
                                {
                                    "0": "3",
                                    "1": "Peoples, John",
                                    "2": "11",
                                    "3": "Product QMVUN",
                                    "4": "1453,20"
                                },
                                {
                                    "0": "3",
                                    "1": "Peoples, John",
                                    "2": "26",
                                    "3": "Product HLGZA",
                                    "4": "936,90"
                                },
                                {
                                    "0": "3",
                                    "1": "Peoples, John",
                                    "2": "59",
                                    "3": "Product UKXRI",
                                    "4": "825,00"
                                },
                                {
                                    "0": "4",
                                    "1": "Arndt, Torsten",
                                    "2": "20",
                                    "3": "Product QHFFP",
                                    "4": "4050,00"
                                },
                                {
                                    "0": "4",
                                    "1": "Arndt, Torsten",
                                    "2": "31",
                                    "3": "Product XWOXC",
                                    "4": "1437,50"
                                },
                                {
                                    "0": "4",
                                    "1": "Arndt, Torsten",
                                    "2": "57",
                                    "3": "Product OVLQI",
                                    "4": "1170,00"
                                },
                                {
                                    "0": "5",
                                    "1": "Higginbotham, Tom",
                                    "2": "38",
                                    "3": "Product QDOMO",
                                    "4": "3952,50"
                                },
                                {
                                    "0": "5",
                                    "1": "Higginbotham, Tom",
                                    "2": "43",
                                    "3": "Product ZZZHR",
                                    "4": "2760,00"
                                },
                                {
                                    "0": "5",
                                    "1": "Higginbotham, Tom",
                                    "2": "28",
                                    "3": "Product OFBNT",
                                    "4": "2280,00"
                                },
                                {
                                    "0": "6",
                                    "1": "Poland, Carole",
                                    "2": "60",
                                    "3": "Product WHBYK",
                                    "4": "714,00"
                                },
                                {
                                    "0": "6",
                                    "1": "Poland, Carole",
                                    "2": "18",
                                    "3": "Product CKEDC",
                                    "4": "625,00"
                                },
                                {
                                    "0": "6",
                                    "1": "Poland, Carole",
                                    "2": "51",
                                    "3": "Product APITJ",
                                    "4": "424,00"
                                },
                                {
                                    "0": "7",
                                    "1": "Bansal, Dushyant",
                                    "2": "29",
                                    "3": "Product VJXYN",
                                    "4": "3465,00"
                                },
                                {
                                    "0": "7",
                                    "1": "Bansal, Dushyant",
                                    "2": "38",
                                    "3": "Product QDOMO",
                                    "4": "2108,00"
                                },
                                {
                                    "0": "7",
                                    "1": "Bansal, Dushyant",
                                    "2": "62",
                                    "3": "Product WUXYK",
                                    "4": "1379,00"
                                },
                                {
                                    "0": "8",
                                    "1": "Ilyina, Julia",
                                    "2": "29",
                                    "3": "Product VJXYN",
                                    "4": "2475,80"
                                },
                                {
                                    "0": "8",
                                    "1": "Ilyina, Julia",
                                    "2": "17",
                                    "3": "Product BLCAX",
                                    "4": "1560,00"
                                },
                                {
                                    "0": "8",
                                    "1": "Ilyina, Julia",
                                    "2": "4",
                                    "3": "Product KSBRM",
                                    "4": "422,40"
                                },
                                {
                                    "0": "9",
                                    "1": "Raghav, Amritansh",
                                    "2": "18",
                                    "3": "Product CKEDC",
                                    "4": "2500,00"
                                },
                                {
                                    "0": "9",
                                    "1": "Raghav, Amritansh",
                                    "2": "51",
                                    "3": "Product APITJ",
                                    "4": "1908,00"
                                },
                                {
                                    "0": "9",
                                    "1": "Raghav, Amritansh",
                                    "2": "6",
                                    "3": "Product VAIIV",
                                    "4": "1750,00"
                                },
                                {
                                    "0": "10",
                                    "1": "Bassols, Pilar Colome",
                                    "2": "62",
                                    "3": "Product WUXYK",
                                    "4": "4781,30"
                                },
                                {
                                    "0": "10",
                                    "1": "Bassols, Pilar Colome",
                                    "2": "60",
                                    "3": "Product WHBYK",
                                    "4": "2550,00"
                                },
                                {
                                    "0": "10",
                                    "1": "Bassols, Pilar Colome",
                                    "2": "17",
                                    "3": "Product BLCAX",
                                    "4": "1794,00"
                                },
                                {
                                    "0": "11",
                                    "1": "Jaffe, David",
                                    "2": "43",
                                    "3": "Product ZZZHR",
                                    "4": "1380,00"
                                },
                                {
                                    "0": "11",
                                    "1": "Jaffe, David",
                                    "2": "7",
                                    "3": "Product HMLNI",
                                    "4": "840,00"
                                },
                                {
                                    "0": "11",
                                    "1": "Jaffe, David",
                                    "2": "56",
                                    "3": "Product VKCMF",
                                    "4": "608,00"
                                },
                                {
                                    "0": "12",
                                    "1": "Ray, Mike",
                                    "2": "28",
                                    "3": "Product OFBNT",
                                    "4": "364,80"
                                },
                                {
                                    "0": "12",
                                    "1": "Ray, Mike",
                                    "2": "43",
                                    "3": "Product ZZZHR",
                                    "4": "322,00"
                                },
                                {
                                    "0": "12",
                                    "1": "Ray, Mike",
                                    "2": "67",
                                    "3": "Product XLXQF",
                                    "4": "280,00"
                                },
                                {
                                    "0": "13",
                                    "1": "Benito, Almudena",
                                    "2": "21",
                                    "3": "Product VJZZH",
                                    "4": "80,00"
                                },
                                {
                                    "0": "13",
                                    "1": "Benito, Almudena",
                                    "2": "37",
                                    "3": "Product EVFFA",
                                    "4": "20,80"
                                },
                                {
                                    "0": "14",
                                    "1": "Jelitto, Jacek",
                                    "2": "56",
                                    "3": "Product VKCMF",
                                    "4": "2736,00"
                                },
                                {
                                    "0": "14",
                                    "1": "Jelitto, Jacek",
                                    "2": "63",
                                    "3": "Product ICKNK",
                                    "4": "1843,80"
                                },
                                {
                                    "0": "14",
                                    "1": "Jelitto, Jacek",
                                    "2": "51",
                                    "3": "Product APITJ",
                                    "4": "1590,00"
                                },
                                {
                                    "0": "15",
                                    "1": "Richardson, Shawn",
                                    "2": "29",
                                    "3": "Product VJXYN",
                                    "4": "1485,00"
                                },
                                {
                                    "0": "15",
                                    "1": "Richardson, Shawn",
                                    "2": "56",
                                    "3": "Product VKCMF",
                                    "4": "912,00"
                                },
                                {
                                    "0": "15",
                                    "1": "Richardson, Shawn",
                                    "2": "5",
                                    "3": "Product EPEIM",
                                    "4": "340,00"
                                },
                                {
                                    "0": "16",
                                    "1": "Birkby, Dana",
                                    "2": "5",
                                    "3": "Product EPEIM",
                                    "4": "640,50"
                                },
                                {
                                    "0": "16",
                                    "1": "Birkby, Dana",
                                    "2": "9",
                                    "3": "Product AOZBW",
                                    "4": "291,00"
                                },
                                {
                                    "0": "16",
                                    "1": "Birkby, Dana",
                                    "2": "72",
                                    "3": "Product GEEOO",
                                    "4": "278,00"
                                },
                                {
                                    "0": "17",
                                    "1": "Jones, TiAnna",
                                    "2": "59",
                                    "3": "Product UKXRI",
                                    "4": "1650,00"
                                },
                                {
                                    "0": "17",
                                    "1": "Jones, TiAnna",
                                    "2": "53",
                                    "3": "Product BKGEA",
                                    "4": "656,00"
                                },
                                {
                                    "0": "17",
                                    "1": "Jones, TiAnna",
                                    "2": "11",
                                    "3": "Product QMVUN",
                                    "4": "420,00"
                                },
                                {
                                    "0": "18",
                                    "1": "Rizaldy, Arif",
                                    "2": "17",
                                    "3": "Product BLCAX",
                                    "4": "585,00"
                                },
                                {
                                    "0": "18",
                                    "1": "Rizaldy, Arif",
                                    "2": "10",
                                    "3": "Product YHXGE",
                                    "4": "310,00"
                                },
                                {
                                    "0": "18",
                                    "1": "Rizaldy, Arif",
                                    "2": "69",
                                    "3": "Product COAXA",
                                    "4": "201,60"
                                },
                                {
                                    "0": "19",
                                    "1": "Boseman, Randall",
                                    "2": "7",
                                    "3": "Product HMLNI",
                                    "4": "3000,00"
                                },
                                {
                                    "0": "19",
                                    "1": "Boseman, Randall",
                                    "2": "29",
                                    "3": "Product VJXYN",
                                    "4": "2079,00"
                                },
                                {
                                    "0": "19",
                                    "1": "Boseman, Randall",
                                    "2": "60",
                                    "3": "Product WHBYK",
                                    "4": "1700,00"
                                },
                                {
                                    "0": "20",
                                    "1": "Kane, John",
                                    "2": "59",
                                    "3": "Product UKXRI",
                                    "4": "9130,00"
                                },
                                {
                                    "0": "20",
                                    "1": "Kane, John",
                                    "2": "64",
                                    "3": "Product HCQDE",
                                    "4": "6384,00"
                                },
                                {
                                    "0": "20",
                                    "1": "Kane, John",
                                    "2": "51",
                                    "3": "Product APITJ",
                                    "4": "6360,00"
                                },
                                {
                                    "0": "21",
                                    "1": "Russo, Giuseppe",
                                    "2": "53",
                                    "3": "Product BKGEA",
                                    "4": "820,00"
                                },
                                {
                                    "0": "21",
                                    "1": "Russo, Giuseppe",
                                    "2": "30",
                                    "3": "Product LYERX",
                                    "4": "776,70"
                                },
                                {
                                    "0": "21",
                                    "1": "Russo, Giuseppe",
                                    "2": "39",
                                    "3": "Product LSOFL",
                                    "4": "720,00"
                                },
                                {
                                    "0": "23",
                                    "1": "Khanna, Karan",
                                    "2": "18",
                                    "3": "Product CKEDC",
                                    "4": "5000,00"
                                },
                                {
                                    "0": "23",
                                    "1": "Khanna, Karan",
                                    "2": "62",
                                    "3": "Product WUXYK",
                                    "4": "1379,00"
                                },
                                {
                                    "0": "23",
                                    "1": "Khanna, Karan",
                                    "2": "63",
                                    "3": "Product ICKNK",
                                    "4": "1317,00"
                                },
                                {
                                    "0": "24",
                                    "1": "San Juan, Patricia",
                                    "2": "29",
                                    "3": "Product VJXYN",
                                    "4": "6189,50"
                                },
                                {
                                    "0": "24",
                                    "1": "San Juan, Patricia",
                                    "2": "51",
                                    "3": "Product APITJ",
                                    "4": "4664,00"
                                },
                                {
                                    "0": "24",
                                    "1": "San Juan, Patricia",
                                    "2": "56",
                                    "3": "Product VKCMF",
                                    "4": "2280,00"
                                },
                                {
                                    "0": "25",
                                    "1": "Carlson, Jason",
                                    "2": "59",
                                    "3": "Product UKXRI",
                                    "4": "4400,00"
                                },
                                {
                                    "0": "25",
                                    "1": "Carlson, Jason",
                                    "2": "71",
                                    "3": "Product MYMOI",
                                    "4": "2322,00"
                                },
                                {
                                    "0": "25",
                                    "1": "Carlson, Jason",
                                    "2": "60",
                                    "3": "Product WHBYK",
                                    "4": "1904,00"
                                },
                                {
                                    "0": "26",
                                    "1": "Koch, Paul",
                                    "2": "29",
                                    "3": "Product VJXYN",
                                    "4": "1733,06"
                                },
                                {
                                    "0": "26",
                                    "1": "Koch, Paul",
                                    "2": "62",
                                    "3": "Product WUXYK",
                                    "4": "493,00"
                                },
                                {
                                    "0": "26",
                                    "1": "Koch, Paul",
                                    "2": "76",
                                    "3": "Product JYGFE",
                                    "4": "360,00"
                                },
                                {
                                    "0": "27",
                                    "1": "Schmöllerl, Martin",
                                    "2": "51",
                                    "3": "Product APITJ",
                                    "4": "530,00"
                                },
                                {
                                    "0": "27",
                                    "1": "Schmöllerl, Martin",
                                    "2": "18",
                                    "3": "Product CKEDC",
                                    "4": "500,00"
                                },
                                {
                                    "0": "27",
                                    "1": "Schmöllerl, Martin",
                                    "2": "60",
                                    "3": "Product WHBYK",
                                    "4": "136,00"
                                },
                                {
                                    "0": "28",
                                    "1": "Cavaglieri, Giorgio",
                                    "2": "56",
                                    "3": "Product VKCMF",
                                    "4": "1368,00"
                                },
                                {
                                    "0": "28",
                                    "1": "Cavaglieri, Giorgio",
                                    "2": "44",
                                    "3": "Product VJIEO",
                                    "4": "1010,50"
                                },
                                {
                                    "0": "28",
                                    "1": "Cavaglieri, Giorgio",
                                    "2": "65",
                                    "3": "Product XYWBZ",
                                    "4": "987,75"
                                },
                                {
                                    "0": "29",
                                    "1": "Kolesnikova, Katerina",
                                    "2": "64",
                                    "3": "Product HCQDE",
                                    "4": "186,20"
                                },
                                {
                                    "0": "29",
                                    "1": "Kolesnikova, Katerina",
                                    "2": "10",
                                    "3": "Product YHXGE",
                                    "4": "155,00"
                                },
                                {
                                    "0": "29",
                                    "1": "Kolesnikova, Katerina",
                                    "2": "56",
                                    "3": "Product VKCMF",
                                    "4": "152,00"
                                },
                                {
                                    "0": "30",
                                    "1": "Shabalin, Rostislav",
                                    "2": "29",
                                    "3": "Product VJXYN",
                                    "4": "2475,80"
                                },
                                {
                                    "0": "30",
                                    "1": "Shabalin, Rostislav",
                                    "2": "51",
                                    "3": "Product APITJ",
                                    "4": "2120,00"
                                },
                                {
                                    "0": "30",
                                    "1": "Shabalin, Rostislav",
                                    "2": "62",
                                    "3": "Product WUXYK",
                                    "4": "986,00"
                                },
                                {
                                    "0": "31",
                                    "1": "Cheng, Yao-Qiang",
                                    "2": "8",
                                    "3": "Product WVJFP",
                                    "4": "1600,00"
                                },
                                {
                                    "0": "31",
                                    "1": "Cheng, Yao-Qiang",
                                    "2": "51",
                                    "3": "Product APITJ",
                                    "4": "1484,00"
                                },
                                {
                                    "0": "31",
                                    "1": "Cheng, Yao-Qiang",
                                    "2": "59",
                                    "3": "Product UKXRI",
                                    "4": "880,00"
                                },
                                {
                                    "0": "32",
                                    "1": "Krishnan, Venky",
                                    "2": "38",
                                    "3": "Product QDOMO",
                                    "4": "11857,50"
                                },
                                {
                                    "0": "32",
                                    "1": "Krishnan, Venky",
                                    "2": "59",
                                    "3": "Product UKXRI",
                                    "4": "1650,00"
                                },
                                {
                                    "0": "32",
                                    "1": "Krishnan, Venky",
                                    "2": "62",
                                    "3": "Product WUXYK",
                                    "4": "986,00"
                                },
                                {
                                    "0": "33",
                                    "1": "Sigurdarson, Hallur ",
                                    "2": "29",
                                    "3": "Product VJXYN",
                                    "4": "990,00"
                                },
                                {
                                    "0": "33",
                                    "1": "Sigurdarson, Hallur ",
                                    "2": "10",
                                    "3": "Product YHXGE",
                                    "4": "310,00"
                                },
                                {
                                    "0": "33",
                                    "1": "Sigurdarson, Hallur ",
                                    "2": "72",
                                    "3": "Product GEEOO",
                                    "4": "111,20"
                                },
                                {
                                    "0": "34",
                                    "1": "Cohen, Shy",
                                    "2": "38",
                                    "3": "Product QDOMO",
                                    "4": "18181,50"
                                },
                                {
                                    "0": "34",
                                    "1": "Cohen, Shy",
                                    "2": "10",
                                    "3": "Product YHXGE",
                                    "4": "2170,00"
                                },
                                {
                                    "0": "34",
                                    "1": "Cohen, Shy",
                                    "2": "51",
                                    "3": "Product APITJ",
                                    "4": "1484,00"
                                },
                                {
                                    "0": "35",
                                    "1": "Langohr, Kris",
                                    "2": "59",
                                    "3": "Product UKXRI",
                                    "4": "4565,00"
                                },
                                {
                                    "0": "35",
                                    "1": "Langohr, Kris",
                                    "2": "51",
                                    "3": "Product APITJ",
                                    "4": "2120,00"
                                },
                                {
                                    "0": "35",
                                    "1": "Langohr, Kris",
                                    "2": "53",
                                    "3": "Product BKGEA",
                                    "4": "1834,00"
                                },
                                {
                                    "0": "36",
                                    "1": "Smith, Denise",
                                    "2": "20",
                                    "3": "Product QHFFP",
                                    "4": "1701,00"
                                },
                                {
                                    "0": "36",
                                    "1": "Smith, Denise",
                                    "2": "73",
                                    "3": "Product WEUJZ",
                                    "4": "450,00"
                                },
                                {
                                    "0": "36",
                                    "1": "Smith, Denise",
                                    "2": "62",
                                    "3": "Product WUXYK",
                                    "4": "394,00"
                                },
                                {
                                    "0": "37",
                                    "1": "Crăciun, Ovidiu V.",
                                    "2": "29",
                                    "3": "Product VJXYN",
                                    "4": "18568,50"
                                },
                                {
                                    "0": "37",
                                    "1": "Crăciun, Ovidiu V.",
                                    "2": "59",
                                    "3": "Product UKXRI",
                                    "4": "5830,00"
                                },
                                {
                                    "0": "37",
                                    "1": "Crăciun, Ovidiu V.",
                                    "2": "9",
                                    "3": "Product AOZBW",
                                    "4": "4850,00"
                                },
                                {
                                    "0": "38",
                                    "1": "Lee, Frank",
                                    "2": "61",
                                    "3": "Product XYZPE",
                                    "4": "855,00"
                                },
                                {
                                    "0": "38",
                                    "1": "Lee, Frank",
                                    "2": "8",
                                    "3": "Product WVJFP",
                                    "4": "800,00"
                                },
                                {
                                    "0": "38",
                                    "1": "Lee, Frank",
                                    "2": "60",
                                    "3": "Product WHBYK",
                                    "4": "714,00"
                                },
                                {
                                    "0": "39",
                                    "1": "Song, Lolan",
                                    "2": "38",
                                    "3": "Product QDOMO",
                                    "4": "7905,00"
                                },
                                {
                                    "0": "39",
                                    "1": "Song, Lolan",
                                    "2": "59",
                                    "3": "Product UKXRI",
                                    "4": "4279,00"
                                },
                                {
                                    "0": "39",
                                    "1": "Song, Lolan",
                                    "2": "29",
                                    "3": "Product VJXYN",
                                    "4": "2970,96"
                                },
                                {
                                    "0": "40",
                                    "1": "De Oliveira, Jose",
                                    "2": "27",
                                    "3": "Product SMIOH",
                                    "4": "439,00"
                                },
                                {
                                    "0": "40",
                                    "1": "De Oliveira, Jose",
                                    "2": "20",
                                    "3": "Product QHFFP",
                                    "4": "405,00"
                                },
                                {
                                    "0": "40",
                                    "1": "De Oliveira, Jose",
                                    "2": "76",
                                    "3": "Product JYGFE",
                                    "4": "360,00"
                                },
                                {
                                    "0": "41",
                                    "1": "Litton, Tim",
                                    "2": "29",
                                    "3": "Product VJXYN",
                                    "4": "2475,80"
                                },
                                {
                                    "0": "41",
                                    "1": "Litton, Tim",
                                    "2": "62",
                                    "3": "Product WUXYK",
                                    "4": "1576,00"
                                },
                                {
                                    "0": "41",
                                    "1": "Litton, Tim",
                                    "2": "69",
                                    "3": "Product COAXA",
                                    "4": "806,40"
                                },
                                {
                                    "0": "42",
                                    "1": "Steiner, Dominik",
                                    "2": "41",
                                    "3": "Product TTEEX",
                                    "4": "154,00"
                                },
                                {
                                    "0": "42",
                                    "1": "Steiner, Dominik",
                                    "2": "70",
                                    "3": "Product TOONT",
                                    "4": "75,00"
                                },
                                {
                                    "0": "42",
                                    "1": "Steiner, Dominik",
                                    "2": "23",
                                    "3": "Product JLUDZ",
                                    "4": "72,00"
                                },
                                {
                                    "0": "43",
                                    "1": "Deshpande, Anu",
                                    "2": "11",
                                    "3": "Product QMVUN",
                                    "4": "210,00"
                                },
                                {
                                    "0": "43",
                                    "1": "Deshpande, Anu",
                                    "2": "40",
                                    "3": "Product YZIXQ",
                                    "4": "147,00"
                                },
                                {
                                    "0": "44",
                                    "1": "Louverdis, George",
                                    "2": "64",
                                    "3": "Product HCQDE",
                                    "4": "2327,50"
                                },
                                {
                                    "0": "44",
                                    "1": "Louverdis, George",
                                    "2": "29",
                                    "3": "Product VJXYN",
                                    "4": "2228,22"
                                },
                                {
                                    "0": "44",
                                    "1": "Louverdis, George",
                                    "2": "60",
                                    "3": "Product WHBYK",
                                    "4": "1734,00"
                                },
                                {
                                    "0": "45",
                                    "1": "Sunkammurali,  Krishna",
                                    "2": "56",
                                    "3": "Product VKCMF",
                                    "4": "798,00"
                                },
                                {
                                    "0": "45",
                                    "1": "Sunkammurali,  Krishna",
                                    "2": "18",
                                    "3": "Product CKEDC",
                                    "4": "750,00"
                                },
                                {
                                    "0": "45",
                                    "1": "Sunkammurali,  Krishna",
                                    "2": "61",
                                    "3": "Product XYZPE",
                                    "4": "570,00"
                                },
                                {
                                    "0": "46",
                                    "1": "Dressler, Marlies",
                                    "2": "59",
                                    "3": "Product UKXRI",
                                    "4": "2200,00"
                                },
                                {
                                    "0": "46",
                                    "1": "Dressler, Marlies",
                                    "2": "26",
                                    "3": "Product HLGZA",
                                    "4": "1643,40"
                                },
                                {
                                    "0": "46",
                                    "1": "Dressler, Marlies",
                                    "2": "32",
                                    "3": "Product NUNAW",
                                    "4": "1600,00"
                                },
                                {
                                    "0": "47",
                                    "1": "Lupu, Cornel",
                                    "2": "72",
                                    "3": "Product GEEOO",
                                    "4": "2088,00"
                                },
                                {
                                    "0": "47",
                                    "1": "Lupu, Cornel",
                                    "2": "18",
                                    "3": "Product CKEDC",
                                    "4": "1562,50"
                                },
                                {
                                    "0": "47",
                                    "1": "Lupu, Cornel",
                                    "2": "49",
                                    "3": "Product FPYPN",
                                    "4": "1200,00"
                                },
                                {
                                    "0": "48",
                                    "1": "Szymczak, Radosław",
                                    "2": "51",
                                    "3": "Product APITJ",
                                    "4": "1060,00"
                                },
                                {
                                    "0": "48",
                                    "1": "Szymczak, Radosław",
                                    "2": "12",
                                    "3": "Product OSFNS",
                                    "4": "760,00"
                                },
                                {
                                    "0": "48",
                                    "1": "Szymczak, Radosław",
                                    "2": "18",
                                    "3": "Product CKEDC",
                                    "4": "625,00"
                                },
                                {
                                    "0": "49",
                                    "1": "Duerr, Bernard",
                                    "2": "72",
                                    "3": "Product GEEOO",
                                    "4": "1044,00"
                                },
                                {
                                    "0": "49",
                                    "1": "Duerr, Bernard",
                                    "2": "22",
                                    "3": "Product CPHFY",
                                    "4": "840,00"
                                },
                                {
                                    "0": "49",
                                    "1": "Duerr, Bernard",
                                    "2": "26",
                                    "3": "Product HLGZA",
                                    "4": "747,00"
                                },
                                {
                                    "0": "50",
                                    "1": "Mace, Donald",
                                    "2": "59",
                                    "3": "Product UKXRI",
                                    "4": "2200,00"
                                },
                                {
                                    "0": "50",
                                    "1": "Mace, Donald",
                                    "2": "27",
                                    "3": "Product SMIOH",
                                    "4": "1756,00"
                                },
                                {
                                    "0": "50",
                                    "1": "Mace, Donald",
                                    "2": "43",
                                    "3": "Product ZZZHR",
                                    "4": "1380,00"
                                },
                                {
                                    "0": "51",
                                    "1": "Taylor, Maurice",
                                    "2": "38",
                                    "3": "Product QDOMO",
                                    "4": "10329,20"
                                },
                                {
                                    "0": "51",
                                    "1": "Taylor, Maurice",
                                    "2": "56",
                                    "3": "Product VKCMF",
                                    "4": "3040,00"
                                },
                                {
                                    "0": "51",
                                    "1": "Taylor, Maurice",
                                    "2": "60",
                                    "3": "Product WHBYK",
                                    "4": "2380,00"
                                },
                                {
                                    "0": "52",
                                    "1": "Dupont-Roc, Patrice",
                                    "2": "62",
                                    "3": "Product WUXYK",
                                    "4": "1458,80"
                                },
                                {
                                    "0": "52",
                                    "1": "Dupont-Roc, Patrice",
                                    "2": "72",
                                    "3": "Product GEEOO",
                                    "4": "1044,00"
                                },
                                {
                                    "0": "52",
                                    "1": "Dupont-Roc, Patrice",
                                    "2": "28",
                                    "3": "Product OFBNT",
                                    "4": "728,00"
                                },
                                {
                                    "0": "53",
                                    "1": "Mallit, Ken",
                                    "2": "59",
                                    "3": "Product UKXRI",
                                    "4": "220,00"
                                },
                                {
                                    "0": "53",
                                    "1": "Mallit, Ken",
                                    "2": "1",
                                    "3": "Product HHYDP",
                                    "4": "144,00"
                                },
                                {
                                    "0": "53",
                                    "1": "Mallit, Ken",
                                    "2": "70",
                                    "3": "Product TOONT",
                                    "4": "135,00"
                                },
                                {
                                    "0": "54",
                                    "1": "Tiano, Mike",
                                    "2": "20",
                                    "3": "Product QHFFP",
                                    "4": "1215,00"
                                },
                                {
                                    "0": "54",
                                    "1": "Tiano, Mike",
                                    "2": "11",
                                    "3": "Product QMVUN",
                                    "4": "630,00"
                                },
                                {
                                    "0": "54",
                                    "1": "Tiano, Mike",
                                    "2": "5",
                                    "3": "Product EPEIM",
                                    "4": "427,00"
                                },
                                {
                                    "0": "55",
                                    "1": "Egelund-Muller, Anja",
                                    "2": "29",
                                    "3": "Product VJXYN",
                                    "4": "2475,00"
                                },
                                {
                                    "0": "55",
                                    "1": "Egelund-Muller, Anja",
                                    "2": "16",
                                    "3": "Product PAFRH",
                                    "4": "2094,00"
                                },
                                {
                                    "0": "55",
                                    "1": "Egelund-Muller, Anja",
                                    "2": "27",
                                    "3": "Product SMIOH",
                                    "4": "1755,00"
                                },
                                {
                                    "0": "56",
                                    "1": "Marinova, Nadejda",
                                    "2": "7",
                                    "3": "Product HMLNI",
                                    "4": "1650,00"
                                },
                                {
                                    "0": "56",
                                    "1": "Marinova, Nadejda",
                                    "2": "62",
                                    "3": "Product WUXYK",
                                    "4": "1577,00"
                                },
                                {
                                    "0": "56",
                                    "1": "Marinova, Nadejda",
                                    "2": "60",
                                    "3": "Product WHBYK",
                                    "4": "1020,00"
                                },
                                {
                                    "0": "58",
                                    "1": "Fakhouri, Fadi",
                                    "2": "51",
                                    "3": "Product APITJ",
                                    "4": "1060,00"
                                },
                                {
                                    "0": "58",
                                    "1": "Fakhouri, Fadi",
                                    "2": "28",
                                    "3": "Product OFBNT",
                                    "4": "655,20"
                                },
                                {
                                    "0": "58",
                                    "1": "Fakhouri, Fadi",
                                    "2": "67",
                                    "3": "Product XLXQF",
                                    "4": "420,00"
                                },
                                {
                                    "0": "59",
                                    "1": "Meston, Tosh",
                                    "2": "38",
                                    "3": "Product QDOMO",
                                    "4": "10540,00"
                                },
                                {
                                    "0": "59",
                                    "1": "Meston, Tosh",
                                    "2": "17",
                                    "3": "Product BLCAX",
                                    "4": "2730,00"
                                },
                                {
                                    "0": "59",
                                    "1": "Meston, Tosh",
                                    "2": "69",
                                    "3": "Product COAXA",
                                    "4": "2520,00"
                                },
                                {
                                    "0": "60",
                                    "1": "Uppal, Sunil",
                                    "2": "29",
                                    "3": "Product VJXYN",
                                    "4": "1237,90"
                                },
                                {
                                    "0": "60",
                                    "1": "Uppal, Sunil",
                                    "2": "8",
                                    "3": "Product WVJFP",
                                    "4": "1200,00"
                                },
                                {
                                    "0": "60",
                                    "1": "Uppal, Sunil",
                                    "2": "56",
                                    "3": "Product VKCMF",
                                    "4": "851,20"
                                },
                                {
                                    "0": "61",
                                    "1": "Florczyk, Krzysztof",
                                    "2": "35",
                                    "3": "Product NEVTJ",
                                    "4": "1026,00"
                                },
                                {
                                    "0": "61",
                                    "1": "Florczyk, Krzysztof",
                                    "2": "6",
                                    "3": "Product VAIIV",
                                    "4": "1000,00"
                                },
                                {
                                    "0": "61",
                                    "1": "Florczyk, Krzysztof",
                                    "2": "26",
                                    "3": "Product HLGZA",
                                    "4": "934,38"
                                },
                                {
                                    "0": "62",
                                    "1": "Misiec, Anna",
                                    "2": "38",
                                    "3": "Product QDOMO",
                                    "4": "8432,00"
                                },
                                {
                                    "0": "62",
                                    "1": "Misiec, Anna",
                                    "2": "60",
                                    "3": "Product WHBYK",
                                    "4": "2414,00"
                                },
                                {
                                    "0": "62",
                                    "1": "Misiec, Anna",
                                    "2": "56",
                                    "3": "Product VKCMF",
                                    "4": "2280,00"
                                },
                                {
                                    "0": "63",
                                    "1": "Veronesi, Giorgio",
                                    "2": "38",
                                    "3": "Product QDOMO",
                                    "4": "23715,00"
                                },
                                {
                                    "0": "63",
                                    "1": "Veronesi, Giorgio",
                                    "2": "60",
                                    "3": "Product WHBYK",
                                    "4": "7888,00"
                                },
                                {
                                    "0": "63",
                                    "1": "Veronesi, Giorgio",
                                    "2": "27",
                                    "3": "Product SMIOH",
                                    "4": "5268,00"
                                },
                                {
                                    "0": "64",
                                    "1": "Gaffney, Lawrie",
                                    "2": "38",
                                    "3": "Product QDOMO",
                                    "4": "527,00"
                                },
                                {
                                    "0": "64",
                                    "1": "Gaffney, Lawrie",
                                    "2": "20",
                                    "3": "Product QHFFP",
                                    "4": "405,00"
                                },
                                {
                                    "0": "64",
                                    "1": "Gaffney, Lawrie",
                                    "2": "57",
                                    "3": "Product OVLQI",
                                    "4": "390,00"
                                },
                                {
                                    "0": "65",
                                    "1": "Moore, Michael",
                                    "2": "38",
                                    "3": "Product QDOMO",
                                    "4": "16864,00"
                                },
                                {
                                    "0": "65",
                                    "1": "Moore, Michael",
                                    "2": "62",
                                    "3": "Product WUXYK",
                                    "4": "8180,00"
                                },
                                {
                                    "0": "65",
                                    "1": "Moore, Michael",
                                    "2": "56",
                                    "3": "Product VKCMF",
                                    "4": "3936,80"
                                },
                                {
                                    "0": "66",
                                    "1": "Voss, Florian",
                                    "2": "72",
                                    "3": "Product GEEOO",
                                    "4": "1392,00"
                                },
                                {
                                    "0": "66",
                                    "1": "Voss, Florian",
                                    "2": "7",
                                    "3": "Product HMLNI",
                                    "4": "1200,00"
                                },
                                {
                                    "0": "66",
                                    "1": "Voss, Florian",
                                    "2": "17",
                                    "3": "Product BLCAX",
                                    "4": "780,00"
                                },
                                {
                                    "0": "67",
                                    "1": "Garden, Euan",
                                    "2": "59",
                                    "3": "Product UKXRI",
                                    "4": "2310,00"
                                },
                                {
                                    "0": "67",
                                    "1": "Garden, Euan",
                                    "2": "60",
                                    "3": "Product WHBYK",
                                    "4": "2278,00"
                                },
                                {
                                    "0": "67",
                                    "1": "Garden, Euan",
                                    "2": "18",
                                    "3": "Product CKEDC",
                                    "4": "1562,50"
                                },
                                {
                                    "0": "68",
                                    "1": "Myrcha, Jacek",
                                    "2": "29",
                                    "3": "Product VJXYN",
                                    "4": "4456,44"
                                },
                                {
                                    "0": "68",
                                    "1": "Myrcha, Jacek",
                                    "2": "53",
                                    "3": "Product BKGEA",
                                    "4": "2296,00"
                                },
                                {
                                    "0": "68",
                                    "1": "Myrcha, Jacek",
                                    "2": "69",
                                    "3": "Product COAXA",
                                    "4": "1872,00"
                                },
                                {
                                    "0": "69",
                                    "1": "Watters, Jason M.",
                                    "2": "30",
                                    "3": "Product LYERX",
                                    "4": "357,09"
                                },
                                {
                                    "0": "69",
                                    "1": "Watters, Jason M.",
                                    "2": "60",
                                    "3": "Product WHBYK",
                                    "4": "340,00"
                                },
                                {
                                    "0": "69",
                                    "1": "Watters, Jason M.",
                                    "2": "53",
                                    "3": "Product BKGEA",
                                    "4": "262,00"
                                },
                                {
                                    "0": "70",
                                    "1": "Ginters, Kaspars",
                                    "2": "38",
                                    "3": "Product QDOMO",
                                    "4": "2108,00"
                                },
                                {
                                    "0": "70",
                                    "1": "Ginters, Kaspars",
                                    "2": "59",
                                    "3": "Product UKXRI",
                                    "4": "528,00"
                                },
                                {
                                    "0": "70",
                                    "1": "Ginters, Kaspars",
                                    "2": "18",
                                    "3": "Product CKEDC",
                                    "4": "500,00"
                                },
                                {
                                    "0": "71",
                                    "1": "Navarro, Tomás",
                                    "2": "29",
                                    "3": "Product VJXYN",
                                    "4": "14259,84"
                                },
                                {
                                    "0": "71",
                                    "1": "Navarro, Tomás",
                                    "2": "17",
                                    "3": "Product BLCAX",
                                    "4": "7956,00"
                                },
                                {
                                    "0": "71",
                                    "1": "Navarro, Tomás",
                                    "2": "59",
                                    "3": "Product UKXRI",
                                    "4": "7645,00"
                                },
                                {
                                    "0": "72",
                                    "1": "Welcker, Brian",
                                    "2": "60",
                                    "3": "Product WHBYK",
                                    "4": "2176,00"
                                },
                                {
                                    "0": "72",
                                    "1": "Welcker, Brian",
                                    "2": "28",
                                    "3": "Product OFBNT",
                                    "4": "1822,40"
                                },
                                {
                                    "0": "72",
                                    "1": "Welcker, Brian",
                                    "2": "51",
                                    "3": "Product APITJ",
                                    "4": "1293,20"
                                },
                                {
                                    "0": "73",
                                    "1": "Gonzalez, Nuria",
                                    "2": "38",
                                    "3": "Product QDOMO",
                                    "4": "10540,00"
                                },
                                {
                                    "0": "73",
                                    "1": "Gonzalez, Nuria",
                                    "2": "51",
                                    "3": "Product APITJ",
                                    "4": "1590,00"
                                },
                                {
                                    "0": "73",
                                    "1": "Gonzalez, Nuria",
                                    "2": "55",
                                    "3": "Product YYWRT",
                                    "4": "1440,00"
                                },
                                {
                                    "0": "74",
                                    "1": "O’Brien, Dave",
                                    "2": "38",
                                    "3": "Product QDOMO",
                                    "4": "1317,50"
                                },
                                {
                                    "0": "74",
                                    "1": "O’Brien, Dave",
                                    "2": "18",
                                    "3": "Product CKEDC",
                                    "4": "375,00"
                                },
                                {
                                    "0": "74",
                                    "1": "O’Brien, Dave",
                                    "2": "69",
                                    "3": "Product COAXA",
                                    "4": "360,00"
                                },
                                {
                                    "0": "75",
                                    "1": "Wojciechowska, Agnieszka",
                                    "2": "38",
                                    "3": "Product QDOMO",
                                    "4": "4216,00"
                                },
                                {
                                    "0": "75",
                                    "1": "Wojciechowska, Agnieszka",
                                    "2": "29",
                                    "3": "Product VJXYN",
                                    "4": "1980,00"
                                },
                                {
                                    "0": "75",
                                    "1": "Wojciechowska, Agnieszka",
                                    "2": "18",
                                    "3": "Product CKEDC",
                                    "4": "1312,50"
                                },
                                {
                                    "0": "76",
                                    "1": "Gulbis, Katrin",
                                    "2": "59",
                                    "3": "Product UKXRI",
                                    "4": "2750,00"
                                },
                                {
                                    "0": "76",
                                    "1": "Gulbis, Katrin",
                                    "2": "20",
                                    "3": "Product QHFFP",
                                    "4": "2592,00"
                                },
                                {
                                    "0": "76",
                                    "1": "Gulbis, Katrin",
                                    "2": "28",
                                    "3": "Product OFBNT",
                                    "4": "2111,20"
                                },
                                {
                                    "0": "77",
                                    "1": "Osorio, Cristian",
                                    "2": "38",
                                    "3": "Product QDOMO",
                                    "4": "2635,00"
                                },
                                {
                                    "0": "77",
                                    "1": "Osorio, Cristian",
                                    "2": "62",
                                    "3": "Product WUXYK",
                                    "4": "197,00"
                                },
                                {
                                    "0": "77",
                                    "1": "Osorio, Cristian",
                                    "2": "34",
                                    "3": "Product SWNJY",
                                    "4": "140,00"
                                },
                                {
                                    "0": "78",
                                    "1": "Young, Robin",
                                    "2": "29",
                                    "3": "Product VJXYN",
                                    "4": "742,74"
                                },
                                {
                                    "0": "78",
                                    "1": "Young, Robin",
                                    "2": "28",
                                    "3": "Product OFBNT",
                                    "4": "456,00"
                                },
                                {
                                    "0": "78",
                                    "1": "Young, Robin",
                                    "2": "44",
                                    "3": "Product VJIEO",
                                    "4": "194,50"
                                },
                                {
                                    "0": "79",
                                    "1": "Wickham, Jim",
                                    "2": "51",
                                    "3": "Product APITJ",
                                    "4": "1696,00"
                                },
                                {
                                    "0": "79",
                                    "1": "Wickham, Jim",
                                    "2": "56",
                                    "3": "Product VKCMF",
                                    "4": "1064,00"
                                },
                                {
                                    "0": "79",
                                    "1": "Wickham, Jim",
                                    "2": "49",
                                    "3": "Product FPYPN",
                                    "4": "800,00"
                                },
                                {
                                    "0": "80",
                                    "1": "Geschwandtner, Jens",
                                    "2": "38",
                                    "3": "Product QDOMO",
                                    "4": "3952,50"
                                },
                                {
                                    "0": "80",
                                    "1": "Geschwandtner, Jens",
                                    "2": "44",
                                    "3": "Product VJIEO",
                                    "4": "991,95"
                                },
                                {
                                    "0": "80",
                                    "1": "Geschwandtner, Jens",
                                    "2": "17",
                                    "3": "Product BLCAX",
                                    "4": "639,60"
                                },
                                {
                                    "0": "81",
                                    "1": "Nagel, Jean-Philippe",
                                    "2": "20",
                                    "3": "Product QHFFP",
                                    "4": "1296,00"
                                },
                                {
                                    "0": "81",
                                    "1": "Nagel, Jean-Philippe",
                                    "2": "60",
                                    "3": "Product WHBYK",
                                    "4": "1020,00"
                                },
                                {
                                    "0": "81",
                                    "1": "Nagel, Jean-Philippe",
                                    "2": "29",
                                    "3": "Product VJXYN",
                                    "4": "990,32"
                                },
                                {
                                    "0": "82",
                                    "1": "Veninga, Tjeerd",
                                    "2": "62",
                                    "3": "Product WUXYK",
                                    "4": "640,90"
                                },
                                {
                                    "0": "82",
                                    "1": "Veninga, Tjeerd",
                                    "2": "77",
                                    "3": "Product LUNZZ",
                                    "4": "234,00"
                                },
                                {
                                    "0": "82",
                                    "1": "Veninga, Tjeerd",
                                    "2": "64",
                                    "3": "Product HCQDE",
                                    "4": "199,50"
                                },
                                {
                                    "0": "83",
                                    "1": "Fonteneau, Karl",
                                    "2": "28",
                                    "3": "Product OFBNT",
                                    "4": "2736,00"
                                },
                                {
                                    "0": "83",
                                    "1": "Fonteneau, Karl",
                                    "2": "29",
                                    "3": "Product VJXYN",
                                    "4": "1782,00"
                                },
                                {
                                    "0": "83",
                                    "1": "Fonteneau, Karl",
                                    "2": "63",
                                    "3": "Product ICKNK",
                                    "4": "1756,00"
                                },
                                {
                                    "0": "84",
                                    "1": "Tuntisangaroon, Sittichai",
                                    "2": "62",
                                    "3": "Product WUXYK",
                                    "4": "1972,00"
                                },
                                {
                                    "0": "84",
                                    "1": "Tuntisangaroon, Sittichai",
                                    "2": "72",
                                    "3": "Product GEEOO",
                                    "4": "1112,00"
                                },
                                {
                                    "0": "84",
                                    "1": "Tuntisangaroon, Sittichai",
                                    "2": "10",
                                    "3": "Product YHXGE",
                                    "4": "992,00"
                                },
                                {
                                    "0": "85",
                                    "1": "McLin, Nkenge",
                                    "2": "72",
                                    "3": "Product GEEOO",
                                    "4": "368,60"
                                },
                                {
                                    "0": "85",
                                    "1": "McLin, Nkenge",
                                    "2": "71",
                                    "3": "Product MYMOI",
                                    "4": "344,00"
                                },
                                {
                                    "0": "85",
                                    "1": "McLin, Nkenge",
                                    "2": "11",
                                    "3": "Product QMVUN",
                                    "4": "168,00"
                                },
                                {
                                    "0": "86",
                                    "1": "Syamala, Manoj",
                                    "2": "32",
                                    "3": "Product NUNAW",
                                    "4": "2080,00"
                                },
                                {
                                    "0": "86",
                                    "1": "Syamala, Manoj",
                                    "2": "69",
                                    "3": "Product COAXA",
                                    "4": "1296,00"
                                },
                                {
                                    "0": "86",
                                    "1": "Syamala, Manoj",
                                    "2": "43",
                                    "3": "Product ZZZHR",
                                    "4": "883,20"
                                },
                                {
                                    "0": "87",
                                    "1": "Ludwig, Michael",
                                    "2": "53",
                                    "3": "Product BKGEA",
                                    "4": "1965,00"
                                },
                                {
                                    "0": "87",
                                    "1": "Ludwig, Michael",
                                    "2": "56",
                                    "3": "Product VKCMF",
                                    "4": "1900,00"
                                },
                                {
                                    "0": "87",
                                    "1": "Ludwig, Michael",
                                    "2": "71",
                                    "3": "Product MYMOI",
                                    "4": "1720,00"
                                },
                                {
                                    "0": "88",
                                    "1": "Li, Yan",
                                    "2": "9",
                                    "3": "Product AOZBW",
                                    "4": "1552,00"
                                },
                                {
                                    "0": "88",
                                    "1": "Li, Yan",
                                    "2": "43",
                                    "3": "Product ZZZHR",
                                    "4": "920,00"
                                },
                                {
                                    "0": "88",
                                    "1": "Li, Yan",
                                    "2": "59",
                                    "3": "Product UKXRI",
                                    "4": "825,00"
                                },
                                {
                                    "0": "89",
                                    "1": "Smith Jr., Ronaldo",
                                    "2": "38",
                                    "3": "Product QDOMO",
                                    "4": "6587,50"
                                },
                                {
                                    "0": "89",
                                    "1": "Smith Jr., Ronaldo",
                                    "2": "17",
                                    "3": "Product BLCAX",
                                    "4": "2418,00"
                                },
                                {
                                    "0": "89",
                                    "1": "Smith Jr., Ronaldo",
                                    "2": "8",
                                    "3": "Product WVJFP",
                                    "4": "2240,00"
                                },
                                {
                                    "0": "90",
                                    "1": "Larsson, Katarina",
                                    "2": "59",
                                    "3": "Product UKXRI",
                                    "4": "550,00"
                                },
                                {
                                    "0": "90",
                                    "1": "Larsson, Katarina",
                                    "2": "8",
                                    "3": "Product WVJFP",
                                    "4": "400,00"
                                },
                                {
                                    "0": "90",
                                    "1": "Larsson, Katarina",
                                    "2": "43",
                                    "3": "Product ZZZHR",
                                    "4": "276,00"
                                },
                                {
                                    "0": "91",
                                    "1": "Conn, Steve",
                                    "2": "61",
                                    "3": "Product XYZPE",
                                    "4": "627,00"
                                },
                                {
                                    "0": "91",
                                    "1": "Conn, Steve",
                                    "2": "62",
                                    "3": "Product WUXYK",
                                    "4": "591,60"
                                },
                                {
                                    "0": "91",
                                    "1": "Conn, Steve",
                                    "2": "60",
                                    "3": "Product WHBYK",
                                    "4": "510,00"
                                }
                            ]
                        },
                        "text/html": [
                            "<table>",
                            "<tr><th>custid</th><th>contactname</th><th>productid</th><th>productname</th><th>totalsalesamount</th></tr>",
                            "<tr><td>1</td><td>Allen, Michael</td><td>63</td><td>Product ICKNK</td><td>878,00</td></tr>",
                            "<tr><td>1</td><td>Allen, Michael</td><td>59</td><td>Product UKXRI</td><td>825,00</td></tr>",
                            "<tr><td>1</td><td>Allen, Michael</td><td>28</td><td>Product OFBNT</td><td>775,20</td></tr>",
                            "<tr><td>2</td><td>Hassall, Mark</td><td>72</td><td>Product GEEOO</td><td>348,00</td></tr>",
                            "<tr><td>2</td><td>Hassall, Mark</td><td>60</td><td>Product WHBYK</td><td>340,00</td></tr>",
                            "<tr><td>2</td><td>Hassall, Mark</td><td>32</td><td>Product NUNAW</td><td>320,00</td></tr>",
                            "<tr><td>3</td><td>Peoples, John</td><td>11</td><td>Product QMVUN</td><td>1453,20</td></tr>",
                            "<tr><td>3</td><td>Peoples, John</td><td>26</td><td>Product HLGZA</td><td>936,90</td></tr>",
                            "<tr><td>3</td><td>Peoples, John</td><td>59</td><td>Product UKXRI</td><td>825,00</td></tr>",
                            "<tr><td>4</td><td>Arndt, Torsten</td><td>20</td><td>Product QHFFP</td><td>4050,00</td></tr>",
                            "<tr><td>4</td><td>Arndt, Torsten</td><td>31</td><td>Product XWOXC</td><td>1437,50</td></tr>",
                            "<tr><td>4</td><td>Arndt, Torsten</td><td>57</td><td>Product OVLQI</td><td>1170,00</td></tr>",
                            "<tr><td>5</td><td>Higginbotham, Tom</td><td>38</td><td>Product QDOMO</td><td>3952,50</td></tr>",
                            "<tr><td>5</td><td>Higginbotham, Tom</td><td>43</td><td>Product ZZZHR</td><td>2760,00</td></tr>",
                            "<tr><td>5</td><td>Higginbotham, Tom</td><td>28</td><td>Product OFBNT</td><td>2280,00</td></tr>",
                            "<tr><td>6</td><td>Poland, Carole</td><td>60</td><td>Product WHBYK</td><td>714,00</td></tr>",
                            "<tr><td>6</td><td>Poland, Carole</td><td>18</td><td>Product CKEDC</td><td>625,00</td></tr>",
                            "<tr><td>6</td><td>Poland, Carole</td><td>51</td><td>Product APITJ</td><td>424,00</td></tr>",
                            "<tr><td>7</td><td>Bansal, Dushyant</td><td>29</td><td>Product VJXYN</td><td>3465,00</td></tr>",
                            "<tr><td>7</td><td>Bansal, Dushyant</td><td>38</td><td>Product QDOMO</td><td>2108,00</td></tr>",
                            "<tr><td>7</td><td>Bansal, Dushyant</td><td>62</td><td>Product WUXYK</td><td>1379,00</td></tr>",
                            "<tr><td>8</td><td>Ilyina, Julia</td><td>29</td><td>Product VJXYN</td><td>2475,80</td></tr>",
                            "<tr><td>8</td><td>Ilyina, Julia</td><td>17</td><td>Product BLCAX</td><td>1560,00</td></tr>",
                            "<tr><td>8</td><td>Ilyina, Julia</td><td>4</td><td>Product KSBRM</td><td>422,40</td></tr>",
                            "<tr><td>9</td><td>Raghav, Amritansh</td><td>18</td><td>Product CKEDC</td><td>2500,00</td></tr>",
                            "<tr><td>9</td><td>Raghav, Amritansh</td><td>51</td><td>Product APITJ</td><td>1908,00</td></tr>",
                            "<tr><td>9</td><td>Raghav, Amritansh</td><td>6</td><td>Product VAIIV</td><td>1750,00</td></tr>",
                            "<tr><td>10</td><td>Bassols, Pilar Colome</td><td>62</td><td>Product WUXYK</td><td>4781,30</td></tr>",
                            "<tr><td>10</td><td>Bassols, Pilar Colome</td><td>60</td><td>Product WHBYK</td><td>2550,00</td></tr>",
                            "<tr><td>10</td><td>Bassols, Pilar Colome</td><td>17</td><td>Product BLCAX</td><td>1794,00</td></tr>",
                            "<tr><td>11</td><td>Jaffe, David</td><td>43</td><td>Product ZZZHR</td><td>1380,00</td></tr>",
                            "<tr><td>11</td><td>Jaffe, David</td><td>7</td><td>Product HMLNI</td><td>840,00</td></tr>",
                            "<tr><td>11</td><td>Jaffe, David</td><td>56</td><td>Product VKCMF</td><td>608,00</td></tr>",
                            "<tr><td>12</td><td>Ray, Mike</td><td>28</td><td>Product OFBNT</td><td>364,80</td></tr>",
                            "<tr><td>12</td><td>Ray, Mike</td><td>43</td><td>Product ZZZHR</td><td>322,00</td></tr>",
                            "<tr><td>12</td><td>Ray, Mike</td><td>67</td><td>Product XLXQF</td><td>280,00</td></tr>",
                            "<tr><td>13</td><td>Benito, Almudena</td><td>21</td><td>Product VJZZH</td><td>80,00</td></tr>",
                            "<tr><td>13</td><td>Benito, Almudena</td><td>37</td><td>Product EVFFA</td><td>20,80</td></tr>",
                            "<tr><td>14</td><td>Jelitto, Jacek</td><td>56</td><td>Product VKCMF</td><td>2736,00</td></tr>",
                            "<tr><td>14</td><td>Jelitto, Jacek</td><td>63</td><td>Product ICKNK</td><td>1843,80</td></tr>",
                            "<tr><td>14</td><td>Jelitto, Jacek</td><td>51</td><td>Product APITJ</td><td>1590,00</td></tr>",
                            "<tr><td>15</td><td>Richardson, Shawn</td><td>29</td><td>Product VJXYN</td><td>1485,00</td></tr>",
                            "<tr><td>15</td><td>Richardson, Shawn</td><td>56</td><td>Product VKCMF</td><td>912,00</td></tr>",
                            "<tr><td>15</td><td>Richardson, Shawn</td><td>5</td><td>Product EPEIM</td><td>340,00</td></tr>",
                            "<tr><td>16</td><td>Birkby, Dana</td><td>5</td><td>Product EPEIM</td><td>640,50</td></tr>",
                            "<tr><td>16</td><td>Birkby, Dana</td><td>9</td><td>Product AOZBW</td><td>291,00</td></tr>",
                            "<tr><td>16</td><td>Birkby, Dana</td><td>72</td><td>Product GEEOO</td><td>278,00</td></tr>",
                            "<tr><td>17</td><td>Jones, TiAnna</td><td>59</td><td>Product UKXRI</td><td>1650,00</td></tr>",
                            "<tr><td>17</td><td>Jones, TiAnna</td><td>53</td><td>Product BKGEA</td><td>656,00</td></tr>",
                            "<tr><td>17</td><td>Jones, TiAnna</td><td>11</td><td>Product QMVUN</td><td>420,00</td></tr>",
                            "<tr><td>18</td><td>Rizaldy, Arif</td><td>17</td><td>Product BLCAX</td><td>585,00</td></tr>",
                            "<tr><td>18</td><td>Rizaldy, Arif</td><td>10</td><td>Product YHXGE</td><td>310,00</td></tr>",
                            "<tr><td>18</td><td>Rizaldy, Arif</td><td>69</td><td>Product COAXA</td><td>201,60</td></tr>",
                            "<tr><td>19</td><td>Boseman, Randall</td><td>7</td><td>Product HMLNI</td><td>3000,00</td></tr>",
                            "<tr><td>19</td><td>Boseman, Randall</td><td>29</td><td>Product VJXYN</td><td>2079,00</td></tr>",
                            "<tr><td>19</td><td>Boseman, Randall</td><td>60</td><td>Product WHBYK</td><td>1700,00</td></tr>",
                            "<tr><td>20</td><td>Kane, John</td><td>59</td><td>Product UKXRI</td><td>9130,00</td></tr>",
                            "<tr><td>20</td><td>Kane, John</td><td>64</td><td>Product HCQDE</td><td>6384,00</td></tr>",
                            "<tr><td>20</td><td>Kane, John</td><td>51</td><td>Product APITJ</td><td>6360,00</td></tr>",
                            "<tr><td>21</td><td>Russo, Giuseppe</td><td>53</td><td>Product BKGEA</td><td>820,00</td></tr>",
                            "<tr><td>21</td><td>Russo, Giuseppe</td><td>30</td><td>Product LYERX</td><td>776,70</td></tr>",
                            "<tr><td>21</td><td>Russo, Giuseppe</td><td>39</td><td>Product LSOFL</td><td>720,00</td></tr>",
                            "<tr><td>23</td><td>Khanna, Karan</td><td>18</td><td>Product CKEDC</td><td>5000,00</td></tr>",
                            "<tr><td>23</td><td>Khanna, Karan</td><td>62</td><td>Product WUXYK</td><td>1379,00</td></tr>",
                            "<tr><td>23</td><td>Khanna, Karan</td><td>63</td><td>Product ICKNK</td><td>1317,00</td></tr>",
                            "<tr><td>24</td><td>San Juan, Patricia</td><td>29</td><td>Product VJXYN</td><td>6189,50</td></tr>",
                            "<tr><td>24</td><td>San Juan, Patricia</td><td>51</td><td>Product APITJ</td><td>4664,00</td></tr>",
                            "<tr><td>24</td><td>San Juan, Patricia</td><td>56</td><td>Product VKCMF</td><td>2280,00</td></tr>",
                            "<tr><td>25</td><td>Carlson, Jason</td><td>59</td><td>Product UKXRI</td><td>4400,00</td></tr>",
                            "<tr><td>25</td><td>Carlson, Jason</td><td>71</td><td>Product MYMOI</td><td>2322,00</td></tr>",
                            "<tr><td>25</td><td>Carlson, Jason</td><td>60</td><td>Product WHBYK</td><td>1904,00</td></tr>",
                            "<tr><td>26</td><td>Koch, Paul</td><td>29</td><td>Product VJXYN</td><td>1733,06</td></tr>",
                            "<tr><td>26</td><td>Koch, Paul</td><td>62</td><td>Product WUXYK</td><td>493,00</td></tr>",
                            "<tr><td>26</td><td>Koch, Paul</td><td>76</td><td>Product JYGFE</td><td>360,00</td></tr>",
                            "<tr><td>27</td><td>Schmöllerl, Martin</td><td>51</td><td>Product APITJ</td><td>530,00</td></tr>",
                            "<tr><td>27</td><td>Schmöllerl, Martin</td><td>18</td><td>Product CKEDC</td><td>500,00</td></tr>",
                            "<tr><td>27</td><td>Schmöllerl, Martin</td><td>60</td><td>Product WHBYK</td><td>136,00</td></tr>",
                            "<tr><td>28</td><td>Cavaglieri, Giorgio</td><td>56</td><td>Product VKCMF</td><td>1368,00</td></tr>",
                            "<tr><td>28</td><td>Cavaglieri, Giorgio</td><td>44</td><td>Product VJIEO</td><td>1010,50</td></tr>",
                            "<tr><td>28</td><td>Cavaglieri, Giorgio</td><td>65</td><td>Product XYWBZ</td><td>987,75</td></tr>",
                            "<tr><td>29</td><td>Kolesnikova, Katerina</td><td>64</td><td>Product HCQDE</td><td>186,20</td></tr>",
                            "<tr><td>29</td><td>Kolesnikova, Katerina</td><td>10</td><td>Product YHXGE</td><td>155,00</td></tr>",
                            "<tr><td>29</td><td>Kolesnikova, Katerina</td><td>56</td><td>Product VKCMF</td><td>152,00</td></tr>",
                            "<tr><td>30</td><td>Shabalin, Rostislav</td><td>29</td><td>Product VJXYN</td><td>2475,80</td></tr>",
                            "<tr><td>30</td><td>Shabalin, Rostislav</td><td>51</td><td>Product APITJ</td><td>2120,00</td></tr>",
                            "<tr><td>30</td><td>Shabalin, Rostislav</td><td>62</td><td>Product WUXYK</td><td>986,00</td></tr>",
                            "<tr><td>31</td><td>Cheng, Yao-Qiang</td><td>8</td><td>Product WVJFP</td><td>1600,00</td></tr>",
                            "<tr><td>31</td><td>Cheng, Yao-Qiang</td><td>51</td><td>Product APITJ</td><td>1484,00</td></tr>",
                            "<tr><td>31</td><td>Cheng, Yao-Qiang</td><td>59</td><td>Product UKXRI</td><td>880,00</td></tr>",
                            "<tr><td>32</td><td>Krishnan, Venky</td><td>38</td><td>Product QDOMO</td><td>11857,50</td></tr>",
                            "<tr><td>32</td><td>Krishnan, Venky</td><td>59</td><td>Product UKXRI</td><td>1650,00</td></tr>",
                            "<tr><td>32</td><td>Krishnan, Venky</td><td>62</td><td>Product WUXYK</td><td>986,00</td></tr>",
                            "<tr><td>33</td><td>Sigurdarson, Hallur </td><td>29</td><td>Product VJXYN</td><td>990,00</td></tr>",
                            "<tr><td>33</td><td>Sigurdarson, Hallur </td><td>10</td><td>Product YHXGE</td><td>310,00</td></tr>",
                            "<tr><td>33</td><td>Sigurdarson, Hallur </td><td>72</td><td>Product GEEOO</td><td>111,20</td></tr>",
                            "<tr><td>34</td><td>Cohen, Shy</td><td>38</td><td>Product QDOMO</td><td>18181,50</td></tr>",
                            "<tr><td>34</td><td>Cohen, Shy</td><td>10</td><td>Product YHXGE</td><td>2170,00</td></tr>",
                            "<tr><td>34</td><td>Cohen, Shy</td><td>51</td><td>Product APITJ</td><td>1484,00</td></tr>",
                            "<tr><td>35</td><td>Langohr, Kris</td><td>59</td><td>Product UKXRI</td><td>4565,00</td></tr>",
                            "<tr><td>35</td><td>Langohr, Kris</td><td>51</td><td>Product APITJ</td><td>2120,00</td></tr>",
                            "<tr><td>35</td><td>Langohr, Kris</td><td>53</td><td>Product BKGEA</td><td>1834,00</td></tr>",
                            "<tr><td>36</td><td>Smith, Denise</td><td>20</td><td>Product QHFFP</td><td>1701,00</td></tr>",
                            "<tr><td>36</td><td>Smith, Denise</td><td>73</td><td>Product WEUJZ</td><td>450,00</td></tr>",
                            "<tr><td>36</td><td>Smith, Denise</td><td>62</td><td>Product WUXYK</td><td>394,00</td></tr>",
                            "<tr><td>37</td><td>Crăciun, Ovidiu V.</td><td>29</td><td>Product VJXYN</td><td>18568,50</td></tr>",
                            "<tr><td>37</td><td>Crăciun, Ovidiu V.</td><td>59</td><td>Product UKXRI</td><td>5830,00</td></tr>",
                            "<tr><td>37</td><td>Crăciun, Ovidiu V.</td><td>9</td><td>Product AOZBW</td><td>4850,00</td></tr>",
                            "<tr><td>38</td><td>Lee, Frank</td><td>61</td><td>Product XYZPE</td><td>855,00</td></tr>",
                            "<tr><td>38</td><td>Lee, Frank</td><td>8</td><td>Product WVJFP</td><td>800,00</td></tr>",
                            "<tr><td>38</td><td>Lee, Frank</td><td>60</td><td>Product WHBYK</td><td>714,00</td></tr>",
                            "<tr><td>39</td><td>Song, Lolan</td><td>38</td><td>Product QDOMO</td><td>7905,00</td></tr>",
                            "<tr><td>39</td><td>Song, Lolan</td><td>59</td><td>Product UKXRI</td><td>4279,00</td></tr>",
                            "<tr><td>39</td><td>Song, Lolan</td><td>29</td><td>Product VJXYN</td><td>2970,96</td></tr>",
                            "<tr><td>40</td><td>De Oliveira, Jose</td><td>27</td><td>Product SMIOH</td><td>439,00</td></tr>",
                            "<tr><td>40</td><td>De Oliveira, Jose</td><td>20</td><td>Product QHFFP</td><td>405,00</td></tr>",
                            "<tr><td>40</td><td>De Oliveira, Jose</td><td>76</td><td>Product JYGFE</td><td>360,00</td></tr>",
                            "<tr><td>41</td><td>Litton, Tim</td><td>29</td><td>Product VJXYN</td><td>2475,80</td></tr>",
                            "<tr><td>41</td><td>Litton, Tim</td><td>62</td><td>Product WUXYK</td><td>1576,00</td></tr>",
                            "<tr><td>41</td><td>Litton, Tim</td><td>69</td><td>Product COAXA</td><td>806,40</td></tr>",
                            "<tr><td>42</td><td>Steiner, Dominik</td><td>41</td><td>Product TTEEX</td><td>154,00</td></tr>",
                            "<tr><td>42</td><td>Steiner, Dominik</td><td>70</td><td>Product TOONT</td><td>75,00</td></tr>",
                            "<tr><td>42</td><td>Steiner, Dominik</td><td>23</td><td>Product JLUDZ</td><td>72,00</td></tr>",
                            "<tr><td>43</td><td>Deshpande, Anu</td><td>11</td><td>Product QMVUN</td><td>210,00</td></tr>",
                            "<tr><td>43</td><td>Deshpande, Anu</td><td>40</td><td>Product YZIXQ</td><td>147,00</td></tr>",
                            "<tr><td>44</td><td>Louverdis, George</td><td>64</td><td>Product HCQDE</td><td>2327,50</td></tr>",
                            "<tr><td>44</td><td>Louverdis, George</td><td>29</td><td>Product VJXYN</td><td>2228,22</td></tr>",
                            "<tr><td>44</td><td>Louverdis, George</td><td>60</td><td>Product WHBYK</td><td>1734,00</td></tr>",
                            "<tr><td>45</td><td>Sunkammurali,  Krishna</td><td>56</td><td>Product VKCMF</td><td>798,00</td></tr>",
                            "<tr><td>45</td><td>Sunkammurali,  Krishna</td><td>18</td><td>Product CKEDC</td><td>750,00</td></tr>",
                            "<tr><td>45</td><td>Sunkammurali,  Krishna</td><td>61</td><td>Product XYZPE</td><td>570,00</td></tr>",
                            "<tr><td>46</td><td>Dressler, Marlies</td><td>59</td><td>Product UKXRI</td><td>2200,00</td></tr>",
                            "<tr><td>46</td><td>Dressler, Marlies</td><td>26</td><td>Product HLGZA</td><td>1643,40</td></tr>",
                            "<tr><td>46</td><td>Dressler, Marlies</td><td>32</td><td>Product NUNAW</td><td>1600,00</td></tr>",
                            "<tr><td>47</td><td>Lupu, Cornel</td><td>72</td><td>Product GEEOO</td><td>2088,00</td></tr>",
                            "<tr><td>47</td><td>Lupu, Cornel</td><td>18</td><td>Product CKEDC</td><td>1562,50</td></tr>",
                            "<tr><td>47</td><td>Lupu, Cornel</td><td>49</td><td>Product FPYPN</td><td>1200,00</td></tr>",
                            "<tr><td>48</td><td>Szymczak, Radosław</td><td>51</td><td>Product APITJ</td><td>1060,00</td></tr>",
                            "<tr><td>48</td><td>Szymczak, Radosław</td><td>12</td><td>Product OSFNS</td><td>760,00</td></tr>",
                            "<tr><td>48</td><td>Szymczak, Radosław</td><td>18</td><td>Product CKEDC</td><td>625,00</td></tr>",
                            "<tr><td>49</td><td>Duerr, Bernard</td><td>72</td><td>Product GEEOO</td><td>1044,00</td></tr>",
                            "<tr><td>49</td><td>Duerr, Bernard</td><td>22</td><td>Product CPHFY</td><td>840,00</td></tr>",
                            "<tr><td>49</td><td>Duerr, Bernard</td><td>26</td><td>Product HLGZA</td><td>747,00</td></tr>",
                            "<tr><td>50</td><td>Mace, Donald</td><td>59</td><td>Product UKXRI</td><td>2200,00</td></tr>",
                            "<tr><td>50</td><td>Mace, Donald</td><td>27</td><td>Product SMIOH</td><td>1756,00</td></tr>",
                            "<tr><td>50</td><td>Mace, Donald</td><td>43</td><td>Product ZZZHR</td><td>1380,00</td></tr>",
                            "<tr><td>51</td><td>Taylor, Maurice</td><td>38</td><td>Product QDOMO</td><td>10329,20</td></tr>",
                            "<tr><td>51</td><td>Taylor, Maurice</td><td>56</td><td>Product VKCMF</td><td>3040,00</td></tr>",
                            "<tr><td>51</td><td>Taylor, Maurice</td><td>60</td><td>Product WHBYK</td><td>2380,00</td></tr>",
                            "<tr><td>52</td><td>Dupont-Roc, Patrice</td><td>62</td><td>Product WUXYK</td><td>1458,80</td></tr>",
                            "<tr><td>52</td><td>Dupont-Roc, Patrice</td><td>72</td><td>Product GEEOO</td><td>1044,00</td></tr>",
                            "<tr><td>52</td><td>Dupont-Roc, Patrice</td><td>28</td><td>Product OFBNT</td><td>728,00</td></tr>",
                            "<tr><td>53</td><td>Mallit, Ken</td><td>59</td><td>Product UKXRI</td><td>220,00</td></tr>",
                            "<tr><td>53</td><td>Mallit, Ken</td><td>1</td><td>Product HHYDP</td><td>144,00</td></tr>",
                            "<tr><td>53</td><td>Mallit, Ken</td><td>70</td><td>Product TOONT</td><td>135,00</td></tr>",
                            "<tr><td>54</td><td>Tiano, Mike</td><td>20</td><td>Product QHFFP</td><td>1215,00</td></tr>",
                            "<tr><td>54</td><td>Tiano, Mike</td><td>11</td><td>Product QMVUN</td><td>630,00</td></tr>",
                            "<tr><td>54</td><td>Tiano, Mike</td><td>5</td><td>Product EPEIM</td><td>427,00</td></tr>",
                            "<tr><td>55</td><td>Egelund-Muller, Anja</td><td>29</td><td>Product VJXYN</td><td>2475,00</td></tr>",
                            "<tr><td>55</td><td>Egelund-Muller, Anja</td><td>16</td><td>Product PAFRH</td><td>2094,00</td></tr>",
                            "<tr><td>55</td><td>Egelund-Muller, Anja</td><td>27</td><td>Product SMIOH</td><td>1755,00</td></tr>",
                            "<tr><td>56</td><td>Marinova, Nadejda</td><td>7</td><td>Product HMLNI</td><td>1650,00</td></tr>",
                            "<tr><td>56</td><td>Marinova, Nadejda</td><td>62</td><td>Product WUXYK</td><td>1577,00</td></tr>",
                            "<tr><td>56</td><td>Marinova, Nadejda</td><td>60</td><td>Product WHBYK</td><td>1020,00</td></tr>",
                            "<tr><td>58</td><td>Fakhouri, Fadi</td><td>51</td><td>Product APITJ</td><td>1060,00</td></tr>",
                            "<tr><td>58</td><td>Fakhouri, Fadi</td><td>28</td><td>Product OFBNT</td><td>655,20</td></tr>",
                            "<tr><td>58</td><td>Fakhouri, Fadi</td><td>67</td><td>Product XLXQF</td><td>420,00</td></tr>",
                            "<tr><td>59</td><td>Meston, Tosh</td><td>38</td><td>Product QDOMO</td><td>10540,00</td></tr>",
                            "<tr><td>59</td><td>Meston, Tosh</td><td>17</td><td>Product BLCAX</td><td>2730,00</td></tr>",
                            "<tr><td>59</td><td>Meston, Tosh</td><td>69</td><td>Product COAXA</td><td>2520,00</td></tr>",
                            "<tr><td>60</td><td>Uppal, Sunil</td><td>29</td><td>Product VJXYN</td><td>1237,90</td></tr>",
                            "<tr><td>60</td><td>Uppal, Sunil</td><td>8</td><td>Product WVJFP</td><td>1200,00</td></tr>",
                            "<tr><td>60</td><td>Uppal, Sunil</td><td>56</td><td>Product VKCMF</td><td>851,20</td></tr>",
                            "<tr><td>61</td><td>Florczyk, Krzysztof</td><td>35</td><td>Product NEVTJ</td><td>1026,00</td></tr>",
                            "<tr><td>61</td><td>Florczyk, Krzysztof</td><td>6</td><td>Product VAIIV</td><td>1000,00</td></tr>",
                            "<tr><td>61</td><td>Florczyk, Krzysztof</td><td>26</td><td>Product HLGZA</td><td>934,38</td></tr>",
                            "<tr><td>62</td><td>Misiec, Anna</td><td>38</td><td>Product QDOMO</td><td>8432,00</td></tr>",
                            "<tr><td>62</td><td>Misiec, Anna</td><td>60</td><td>Product WHBYK</td><td>2414,00</td></tr>",
                            "<tr><td>62</td><td>Misiec, Anna</td><td>56</td><td>Product VKCMF</td><td>2280,00</td></tr>",
                            "<tr><td>63</td><td>Veronesi, Giorgio</td><td>38</td><td>Product QDOMO</td><td>23715,00</td></tr>",
                            "<tr><td>63</td><td>Veronesi, Giorgio</td><td>60</td><td>Product WHBYK</td><td>7888,00</td></tr>",
                            "<tr><td>63</td><td>Veronesi, Giorgio</td><td>27</td><td>Product SMIOH</td><td>5268,00</td></tr>",
                            "<tr><td>64</td><td>Gaffney, Lawrie</td><td>38</td><td>Product QDOMO</td><td>527,00</td></tr>",
                            "<tr><td>64</td><td>Gaffney, Lawrie</td><td>20</td><td>Product QHFFP</td><td>405,00</td></tr>",
                            "<tr><td>64</td><td>Gaffney, Lawrie</td><td>57</td><td>Product OVLQI</td><td>390,00</td></tr>",
                            "<tr><td>65</td><td>Moore, Michael</td><td>38</td><td>Product QDOMO</td><td>16864,00</td></tr>",
                            "<tr><td>65</td><td>Moore, Michael</td><td>62</td><td>Product WUXYK</td><td>8180,00</td></tr>",
                            "<tr><td>65</td><td>Moore, Michael</td><td>56</td><td>Product VKCMF</td><td>3936,80</td></tr>",
                            "<tr><td>66</td><td>Voss, Florian</td><td>72</td><td>Product GEEOO</td><td>1392,00</td></tr>",
                            "<tr><td>66</td><td>Voss, Florian</td><td>7</td><td>Product HMLNI</td><td>1200,00</td></tr>",
                            "<tr><td>66</td><td>Voss, Florian</td><td>17</td><td>Product BLCAX</td><td>780,00</td></tr>",
                            "<tr><td>67</td><td>Garden, Euan</td><td>59</td><td>Product UKXRI</td><td>2310,00</td></tr>",
                            "<tr><td>67</td><td>Garden, Euan</td><td>60</td><td>Product WHBYK</td><td>2278,00</td></tr>",
                            "<tr><td>67</td><td>Garden, Euan</td><td>18</td><td>Product CKEDC</td><td>1562,50</td></tr>",
                            "<tr><td>68</td><td>Myrcha, Jacek</td><td>29</td><td>Product VJXYN</td><td>4456,44</td></tr>",
                            "<tr><td>68</td><td>Myrcha, Jacek</td><td>53</td><td>Product BKGEA</td><td>2296,00</td></tr>",
                            "<tr><td>68</td><td>Myrcha, Jacek</td><td>69</td><td>Product COAXA</td><td>1872,00</td></tr>",
                            "<tr><td>69</td><td>Watters, Jason M.</td><td>30</td><td>Product LYERX</td><td>357,09</td></tr>",
                            "<tr><td>69</td><td>Watters, Jason M.</td><td>60</td><td>Product WHBYK</td><td>340,00</td></tr>",
                            "<tr><td>69</td><td>Watters, Jason M.</td><td>53</td><td>Product BKGEA</td><td>262,00</td></tr>",
                            "<tr><td>70</td><td>Ginters, Kaspars</td><td>38</td><td>Product QDOMO</td><td>2108,00</td></tr>",
                            "<tr><td>70</td><td>Ginters, Kaspars</td><td>59</td><td>Product UKXRI</td><td>528,00</td></tr>",
                            "<tr><td>70</td><td>Ginters, Kaspars</td><td>18</td><td>Product CKEDC</td><td>500,00</td></tr>",
                            "<tr><td>71</td><td>Navarro, Tomás</td><td>29</td><td>Product VJXYN</td><td>14259,84</td></tr>",
                            "<tr><td>71</td><td>Navarro, Tomás</td><td>17</td><td>Product BLCAX</td><td>7956,00</td></tr>",
                            "<tr><td>71</td><td>Navarro, Tomás</td><td>59</td><td>Product UKXRI</td><td>7645,00</td></tr>",
                            "<tr><td>72</td><td>Welcker, Brian</td><td>60</td><td>Product WHBYK</td><td>2176,00</td></tr>",
                            "<tr><td>72</td><td>Welcker, Brian</td><td>28</td><td>Product OFBNT</td><td>1822,40</td></tr>",
                            "<tr><td>72</td><td>Welcker, Brian</td><td>51</td><td>Product APITJ</td><td>1293,20</td></tr>",
                            "<tr><td>73</td><td>Gonzalez, Nuria</td><td>38</td><td>Product QDOMO</td><td>10540,00</td></tr>",
                            "<tr><td>73</td><td>Gonzalez, Nuria</td><td>51</td><td>Product APITJ</td><td>1590,00</td></tr>",
                            "<tr><td>73</td><td>Gonzalez, Nuria</td><td>55</td><td>Product YYWRT</td><td>1440,00</td></tr>",
                            "<tr><td>74</td><td>O’Brien, Dave</td><td>38</td><td>Product QDOMO</td><td>1317,50</td></tr>",
                            "<tr><td>74</td><td>O’Brien, Dave</td><td>18</td><td>Product CKEDC</td><td>375,00</td></tr>",
                            "<tr><td>74</td><td>O’Brien, Dave</td><td>69</td><td>Product COAXA</td><td>360,00</td></tr>",
                            "<tr><td>75</td><td>Wojciechowska, Agnieszka</td><td>38</td><td>Product QDOMO</td><td>4216,00</td></tr>",
                            "<tr><td>75</td><td>Wojciechowska, Agnieszka</td><td>29</td><td>Product VJXYN</td><td>1980,00</td></tr>",
                            "<tr><td>75</td><td>Wojciechowska, Agnieszka</td><td>18</td><td>Product CKEDC</td><td>1312,50</td></tr>",
                            "<tr><td>76</td><td>Gulbis, Katrin</td><td>59</td><td>Product UKXRI</td><td>2750,00</td></tr>",
                            "<tr><td>76</td><td>Gulbis, Katrin</td><td>20</td><td>Product QHFFP</td><td>2592,00</td></tr>",
                            "<tr><td>76</td><td>Gulbis, Katrin</td><td>28</td><td>Product OFBNT</td><td>2111,20</td></tr>",
                            "<tr><td>77</td><td>Osorio, Cristian</td><td>38</td><td>Product QDOMO</td><td>2635,00</td></tr>",
                            "<tr><td>77</td><td>Osorio, Cristian</td><td>62</td><td>Product WUXYK</td><td>197,00</td></tr>",
                            "<tr><td>77</td><td>Osorio, Cristian</td><td>34</td><td>Product SWNJY</td><td>140,00</td></tr>",
                            "<tr><td>78</td><td>Young, Robin</td><td>29</td><td>Product VJXYN</td><td>742,74</td></tr>",
                            "<tr><td>78</td><td>Young, Robin</td><td>28</td><td>Product OFBNT</td><td>456,00</td></tr>",
                            "<tr><td>78</td><td>Young, Robin</td><td>44</td><td>Product VJIEO</td><td>194,50</td></tr>",
                            "<tr><td>79</td><td>Wickham, Jim</td><td>51</td><td>Product APITJ</td><td>1696,00</td></tr>",
                            "<tr><td>79</td><td>Wickham, Jim</td><td>56</td><td>Product VKCMF</td><td>1064,00</td></tr>",
                            "<tr><td>79</td><td>Wickham, Jim</td><td>49</td><td>Product FPYPN</td><td>800,00</td></tr>",
                            "<tr><td>80</td><td>Geschwandtner, Jens</td><td>38</td><td>Product QDOMO</td><td>3952,50</td></tr>",
                            "<tr><td>80</td><td>Geschwandtner, Jens</td><td>44</td><td>Product VJIEO</td><td>991,95</td></tr>",
                            "<tr><td>80</td><td>Geschwandtner, Jens</td><td>17</td><td>Product BLCAX</td><td>639,60</td></tr>",
                            "<tr><td>81</td><td>Nagel, Jean-Philippe</td><td>20</td><td>Product QHFFP</td><td>1296,00</td></tr>",
                            "<tr><td>81</td><td>Nagel, Jean-Philippe</td><td>60</td><td>Product WHBYK</td><td>1020,00</td></tr>",
                            "<tr><td>81</td><td>Nagel, Jean-Philippe</td><td>29</td><td>Product VJXYN</td><td>990,32</td></tr>",
                            "<tr><td>82</td><td>Veninga, Tjeerd</td><td>62</td><td>Product WUXYK</td><td>640,90</td></tr>",
                            "<tr><td>82</td><td>Veninga, Tjeerd</td><td>77</td><td>Product LUNZZ</td><td>234,00</td></tr>",
                            "<tr><td>82</td><td>Veninga, Tjeerd</td><td>64</td><td>Product HCQDE</td><td>199,50</td></tr>",
                            "<tr><td>83</td><td>Fonteneau, Karl</td><td>28</td><td>Product OFBNT</td><td>2736,00</td></tr>",
                            "<tr><td>83</td><td>Fonteneau, Karl</td><td>29</td><td>Product VJXYN</td><td>1782,00</td></tr>",
                            "<tr><td>83</td><td>Fonteneau, Karl</td><td>63</td><td>Product ICKNK</td><td>1756,00</td></tr>",
                            "<tr><td>84</td><td>Tuntisangaroon, Sittichai</td><td>62</td><td>Product WUXYK</td><td>1972,00</td></tr>",
                            "<tr><td>84</td><td>Tuntisangaroon, Sittichai</td><td>72</td><td>Product GEEOO</td><td>1112,00</td></tr>",
                            "<tr><td>84</td><td>Tuntisangaroon, Sittichai</td><td>10</td><td>Product YHXGE</td><td>992,00</td></tr>",
                            "<tr><td>85</td><td>McLin, Nkenge</td><td>72</td><td>Product GEEOO</td><td>368,60</td></tr>",
                            "<tr><td>85</td><td>McLin, Nkenge</td><td>71</td><td>Product MYMOI</td><td>344,00</td></tr>",
                            "<tr><td>85</td><td>McLin, Nkenge</td><td>11</td><td>Product QMVUN</td><td>168,00</td></tr>",
                            "<tr><td>86</td><td>Syamala, Manoj</td><td>32</td><td>Product NUNAW</td><td>2080,00</td></tr>",
                            "<tr><td>86</td><td>Syamala, Manoj</td><td>69</td><td>Product COAXA</td><td>1296,00</td></tr>",
                            "<tr><td>86</td><td>Syamala, Manoj</td><td>43</td><td>Product ZZZHR</td><td>883,20</td></tr>",
                            "<tr><td>87</td><td>Ludwig, Michael</td><td>53</td><td>Product BKGEA</td><td>1965,00</td></tr>",
                            "<tr><td>87</td><td>Ludwig, Michael</td><td>56</td><td>Product VKCMF</td><td>1900,00</td></tr>",
                            "<tr><td>87</td><td>Ludwig, Michael</td><td>71</td><td>Product MYMOI</td><td>1720,00</td></tr>",
                            "<tr><td>88</td><td>Li, Yan</td><td>9</td><td>Product AOZBW</td><td>1552,00</td></tr>",
                            "<tr><td>88</td><td>Li, Yan</td><td>43</td><td>Product ZZZHR</td><td>920,00</td></tr>",
                            "<tr><td>88</td><td>Li, Yan</td><td>59</td><td>Product UKXRI</td><td>825,00</td></tr>",
                            "<tr><td>89</td><td>Smith Jr., Ronaldo</td><td>38</td><td>Product QDOMO</td><td>6587,50</td></tr>",
                            "<tr><td>89</td><td>Smith Jr., Ronaldo</td><td>17</td><td>Product BLCAX</td><td>2418,00</td></tr>",
                            "<tr><td>89</td><td>Smith Jr., Ronaldo</td><td>8</td><td>Product WVJFP</td><td>2240,00</td></tr>",
                            "<tr><td>90</td><td>Larsson, Katarina</td><td>59</td><td>Product UKXRI</td><td>550,00</td></tr>",
                            "<tr><td>90</td><td>Larsson, Katarina</td><td>8</td><td>Product WVJFP</td><td>400,00</td></tr>",
                            "<tr><td>90</td><td>Larsson, Katarina</td><td>43</td><td>Product ZZZHR</td><td>276,00</td></tr>",
                            "<tr><td>91</td><td>Conn, Steve</td><td>61</td><td>Product XYZPE</td><td>627,00</td></tr>",
                            "<tr><td>91</td><td>Conn, Steve</td><td>62</td><td>Product WUXYK</td><td>591,60</td></tr>",
                            "<tr><td>91</td><td>Conn, Steve</td><td>60</td><td>Product WHBYK</td><td>510,00</td></tr>",
                            "</table>"
                        ]
                    }
                }
            ],
            "execution_count": 31
        }
    ]
}